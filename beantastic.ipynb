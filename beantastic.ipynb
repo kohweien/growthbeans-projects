{
 "cells": [
  {
   "cell_type": "markdown",
   "metadata": {},
   "source": [
    "## Wing Hyun and Wei En\n",
    "\n",
    "Hello this is Project 5!! We are analysing the data of the people who played the Beantastic card games to find out more about the changes in certain aspects of their wellbeing, as well as the relationships between the different demographic groups and how they answered certain questions. \n",
    "\n",
    "These are the three questions we will seek to answer in this analysis:\n",
    "\n",
    "1. Are there significant changes in the different categories of well-being after playing Beantastic?\n",
    "2. Is there a relationship in the way participants respond amongst the different categories (eg emotional intelligence vs empathy, emotional resilience and social support etc)\n",
    "3. Does the demographic affect the extent of change in the different categories of well-being they have (eg emotional resilience)\n"
   ]
  },
  {
   "cell_type": "code",
   "execution_count": 109,
   "metadata": {},
   "outputs": [
    {
     "data": {
      "text/plain": [
       "Index(['te', 'please select your age group', 'job status', 'other',\n",
       "       'over the last two weeks, i have felt cheerful and in good spirits',\n",
       "       'over the last two weeks, i have felt calm and relaxed',\n",
       "       'over the last two weeks, i have felt active and vigorous',\n",
       "       'over the last two weeks, i woke up feeling fresh and rested',\n",
       "       'over the last two weeks, my daily life has been filled with things that interest me',\n",
       "       'social support_pre',\n",
       "       'if you can learn anything from todayâ€™s session, what do you hope to take away? how is it important for you? what difference might it make for you?',\n",
       "       'share your email!', 'start date (utc)_pre', 'submit date (utc)_pre',\n",
       "       'network id_pre', 'initiative_pre', 'resilience_pre',\n",
       "       'emotional stability_pre', 'empathy_pre', 'emotional intelligence_pre',\n",
       "       'open-mindedness_pre', '#',\n",
       "       'after the session, i feel cheerful and in good spirits',\n",
       "       'after the session, i feel calm and relaxed',\n",
       "       'after the session, i feel active and vigorous',\n",
       "       'after the session, i feel fresh and rested',\n",
       "       'after the session, my life has been filled with things that interest me',\n",
       "       'social support_post', 'the session was insightful and engaging for me',\n",
       "       'am able to explore what could cause me stress',\n",
       "       'am more aware of the self care / coping strategies that work for me',\n",
       "       'am more aware of other coping strategies i can adopt',\n",
       "       'am more aware of how others cope differently from me',\n",
       "       'am more aware of how different events can induce stress differently in people',\n",
       "       'what is one thing you have learnt about yourself from the session?',\n",
       "       'what is one key takeaway on how we each cope and manage stress?',\n",
       "       'one thing that i'd start doing more of / differently / stop doing is...',\n",
       "       'what went well in the session and what contributed to it?',\n",
       "       'looking ahead, support that i might need / be interested in to cope better with stress is/are...',\n",
       "       'any other feedback?', 'start date (utc)_post',\n",
       "       'submit date (utc)_post', 'network id_post', 'initiative_post',\n",
       "       'resilience_post', 'emotional stability_post', 'empathy_post',\n",
       "       'emotional intelligence_post', 'open-mindedness_post',\n",
       "       'change in initiative', 'change in resilience',\n",
       "       'change in emotional stability', 'change in empathy',\n",
       "       'change in emotional intelligence', 'change in open-mindedness'],\n",
       "      dtype='object')"
      ]
     },
     "execution_count": 109,
     "metadata": {},
     "output_type": "execute_result"
    }
   ],
   "source": [
    "import pandas as pd\n",
    "import numpy as np\n",
    "import matplotlib.pyplot as plt\n",
    "import seaborn as sns\n",
    "import warnings as wr\n",
    "import geopandas as gp\n",
    "import folium as fl\n",
    "import scipy.stats as sp\n",
    "import statsmodels.api as sm\n",
    "import statsmodels.formula.api as smf\n",
    "\n",
    "wr.filterwarnings('ignore')\n",
    "\n",
    "df = pd.read_csv(\"processed_beantastic_data.csv\")\n",
    "\n",
    "df.columns"
   ]
  },
  {
   "cell_type": "code",
   "execution_count": 110,
   "metadata": {},
   "outputs": [],
   "source": [
    "df['mood_pre'] = (df['over the last two weeks, i have felt cheerful and in good spirits'] \n",
    "                  + df['over the last two weeks, i have felt calm and relaxed'] \n",
    "                  + df['over the last two weeks, i have felt active and vigorous'] \n",
    "                  + df['over the last two weeks, i woke up feeling fresh and rested'] \n",
    "                  + df['over the last two weeks, my daily life has been filled with things that interest me']) / 25 * 100\n",
    "df['mood_post'] = (df['after the session, i feel cheerful and in good spirits'] \n",
    "                   + df['after the session, i feel calm and relaxed'] \n",
    "                   + df['after the session, i feel active and vigorous'] \n",
    "                   + df['after the session, i feel fresh and rested'] \n",
    "                   + df['after the session, my life has been filled with things that interest me']) / 25 * 100\n",
    "df['change in mood'] = (df['mood_post'] - df['mood_pre']) / df['mood_pre'] * 100"
   ]
  },
  {
   "cell_type": "markdown",
   "metadata": {},
   "source": [
    "### Question 1: Are there significant changes in the different categories of well-being after playing Beantastic?"
   ]
  },
  {
   "cell_type": "markdown",
   "metadata": {},
   "source": [
    "First, we will visualise the data to see the extent of changes in the different categories of wellbeing after playing Beantastic."
   ]
  },
  {
   "cell_type": "code",
   "execution_count": null,
   "metadata": {},
   "outputs": [
    {
     "data": {
      "text/html": [
       "<div>\n",
       "<style scoped>\n",
       "    .dataframe tbody tr th:only-of-type {\n",
       "        vertical-align: middle;\n",
       "    }\n",
       "\n",
       "    .dataframe tbody tr th {\n",
       "        vertical-align: top;\n",
       "    }\n",
       "\n",
       "    .dataframe thead th {\n",
       "        text-align: right;\n",
       "    }\n",
       "</style>\n",
       "<table border=\"1\" class=\"dataframe\">\n",
       "  <thead>\n",
       "    <tr style=\"text-align: right;\">\n",
       "      <th></th>\n",
       "      <th>change in initiative</th>\n",
       "      <th>change in resilience</th>\n",
       "      <th>change in emotional stability</th>\n",
       "      <th>change in empathy</th>\n",
       "      <th>change in emotional intelligence</th>\n",
       "      <th>change in open-mindedness</th>\n",
       "      <th>change in mood</th>\n",
       "    </tr>\n",
       "  </thead>\n",
       "  <tbody>\n",
       "    <tr>\n",
       "      <th>count</th>\n",
       "      <td>99.000000</td>\n",
       "      <td>99.000000</td>\n",
       "      <td>99.000000</td>\n",
       "      <td>99.000000</td>\n",
       "      <td>99.000000</td>\n",
       "      <td>99.000000</td>\n",
       "      <td>99.000000</td>\n",
       "    </tr>\n",
       "    <tr>\n",
       "      <th>mean</th>\n",
       "      <td>4.832852</td>\n",
       "      <td>2.835823</td>\n",
       "      <td>6.694434</td>\n",
       "      <td>2.113490</td>\n",
       "      <td>4.201361</td>\n",
       "      <td>5.433312</td>\n",
       "      <td>35.754939</td>\n",
       "    </tr>\n",
       "    <tr>\n",
       "      <th>std</th>\n",
       "      <td>17.378335</td>\n",
       "      <td>11.615708</td>\n",
       "      <td>16.795941</td>\n",
       "      <td>10.315226</td>\n",
       "      <td>10.348186</td>\n",
       "      <td>18.494487</td>\n",
       "      <td>56.051785</td>\n",
       "    </tr>\n",
       "    <tr>\n",
       "      <th>min</th>\n",
       "      <td>-33.333333</td>\n",
       "      <td>-29.032258</td>\n",
       "      <td>-30.434783</td>\n",
       "      <td>-25.000000</td>\n",
       "      <td>-22.580645</td>\n",
       "      <td>-35.714286</td>\n",
       "      <td>-23.076923</td>\n",
       "    </tr>\n",
       "    <tr>\n",
       "      <th>25%</th>\n",
       "      <td>0.000000</td>\n",
       "      <td>-4.545455</td>\n",
       "      <td>-2.777778</td>\n",
       "      <td>-3.175403</td>\n",
       "      <td>0.000000</td>\n",
       "      <td>0.000000</td>\n",
       "      <td>5.263158</td>\n",
       "    </tr>\n",
       "    <tr>\n",
       "      <th>50%</th>\n",
       "      <td>0.000000</td>\n",
       "      <td>0.000000</td>\n",
       "      <td>5.263158</td>\n",
       "      <td>0.000000</td>\n",
       "      <td>3.225806</td>\n",
       "      <td>0.000000</td>\n",
       "      <td>20.000000</td>\n",
       "    </tr>\n",
       "    <tr>\n",
       "      <th>75%</th>\n",
       "      <td>14.285714</td>\n",
       "      <td>9.761905</td>\n",
       "      <td>13.809524</td>\n",
       "      <td>7.692308</td>\n",
       "      <td>8.452381</td>\n",
       "      <td>10.555556</td>\n",
       "      <td>50.000000</td>\n",
       "    </tr>\n",
       "    <tr>\n",
       "      <th>max</th>\n",
       "      <td>60.000000</td>\n",
       "      <td>31.250000</td>\n",
       "      <td>71.428571</td>\n",
       "      <td>34.782609</td>\n",
       "      <td>52.631579</td>\n",
       "      <td>125.000000</td>\n",
       "      <td>400.000000</td>\n",
       "    </tr>\n",
       "  </tbody>\n",
       "</table>\n",
       "</div>"
      ],
      "text/plain": [
       "       change in initiative  change in resilience  \\\n",
       "count             99.000000             99.000000   \n",
       "mean               4.832852              2.835823   \n",
       "std               17.378335             11.615708   \n",
       "min              -33.333333            -29.032258   \n",
       "25%                0.000000             -4.545455   \n",
       "50%                0.000000              0.000000   \n",
       "75%               14.285714              9.761905   \n",
       "max               60.000000             31.250000   \n",
       "\n",
       "       change in emotional stability  change in empathy  \\\n",
       "count                      99.000000          99.000000   \n",
       "mean                        6.694434           2.113490   \n",
       "std                        16.795941          10.315226   \n",
       "min                       -30.434783         -25.000000   \n",
       "25%                        -2.777778          -3.175403   \n",
       "50%                         5.263158           0.000000   \n",
       "75%                        13.809524           7.692308   \n",
       "max                        71.428571          34.782609   \n",
       "\n",
       "       change in emotional intelligence  change in open-mindedness  \\\n",
       "count                         99.000000                  99.000000   \n",
       "mean                           4.201361                   5.433312   \n",
       "std                           10.348186                  18.494487   \n",
       "min                          -22.580645                 -35.714286   \n",
       "25%                            0.000000                   0.000000   \n",
       "50%                            3.225806                   0.000000   \n",
       "75%                            8.452381                  10.555556   \n",
       "max                           52.631579                 125.000000   \n",
       "\n",
       "       change in mood  \n",
       "count       99.000000  \n",
       "mean        35.754939  \n",
       "std         56.051785  \n",
       "min        -23.076923  \n",
       "25%          5.263158  \n",
       "50%         20.000000  \n",
       "75%         50.000000  \n",
       "max        400.000000  "
      ]
     },
     "execution_count": 111,
     "metadata": {},
     "output_type": "execute_result"
    }
   ],
   "source": [
    "df2 = df[['change in initiative', 'change in resilience',\n",
    "       'change in emotional stability', 'change in empathy',\n",
    "       'change in emotional intelligence', 'change in open-mindedness', \n",
    "       'change in mood']]\n",
    "df2.describe()\n",
    "\n",
    "#use the scales provided by shane -- different scales may have different results\n",
    "#can help project 4 with similar analyses (trang, berry, linh)"
   ]
  },
  {
   "cell_type": "code",
   "execution_count": 112,
   "metadata": {},
   "outputs": [
    {
     "data": {
      "text/plain": [
       "<Axes: >"
      ]
     },
     "execution_count": 112,
     "metadata": {},
     "output_type": "execute_result"
    },
    {
     "data": {
      "image/png": "[encoded data removed]",
      "text/plain": [
       "<Figure size 1000x800 with 1 Axes>"
      ]
     },
     "metadata": {},
     "output_type": "display_data"
    }
   ],
   "source": [
    "df2.plot.box(figsize=(10, 8), rot=30, grid=True)"
   ]
  },
  {
   "cell_type": "markdown",
   "metadata": {},
   "source": [
    "From the above boxplot and summary of statistics, the greatest change would be that for mood as the median of the change in mood is largest at 20 percentage points, while initiative, resilience, empathy and open-mindedness changed the least as the median of change is 0 percentage points. \n",
    "\n",
    "The change in mood varied the most while the change in empathy varied the least, as visualised by the spread of data in the boxplot where the spread of the change in mood is the greatest while the change in empathy has the lowest spread.\n",
    "\n",
    "Now, we will be performing t-tests to see whether these changes in the different categories of well-being are significant."
   ]
  },
  {
   "cell_type": "code",
   "execution_count": 113,
   "metadata": {},
   "outputs": [],
   "source": [
    "def runtest(x):\n",
    "    group1 = df[x+\"_pre\"]\n",
    "    group2 = df[x+\"_post\"]\n",
    "    return sp.ttest_ind(group1, group2, equal_var=False)"
   ]
  },
  {
   "cell_type": "code",
   "execution_count": 114,
   "metadata": {},
   "outputs": [
    {
     "data": {
      "text/plain": [
       "TtestResult(statistic=-1.1480756957638547, pvalue=0.2523381354803541, df=195.78776903064878)"
      ]
     },
     "execution_count": 114,
     "metadata": {},
     "output_type": "execute_result"
    }
   ],
   "source": [
    "runtest(\"initiative\")"
   ]
  },
  {
   "cell_type": "code",
   "execution_count": 115,
   "metadata": {},
   "outputs": [
    {
     "data": {
      "text/plain": [
       "TtestResult(statistic=-0.7923105587775096, pvalue=0.4291395978573438, df=195.57882592518774)"
      ]
     },
     "execution_count": 115,
     "metadata": {},
     "output_type": "execute_result"
    }
   ],
   "source": [
    "runtest(\"resilience\")"
   ]
  },
  {
   "cell_type": "code",
   "execution_count": 116,
   "metadata": {},
   "outputs": [
    {
     "data": {
      "text/plain": [
       "TtestResult(statistic=-1.9036304984464805, pvalue=0.05842694777920788, df=195.53851975738672)"
      ]
     },
     "execution_count": 116,
     "metadata": {},
     "output_type": "execute_result"
    }
   ],
   "source": [
    "runtest(\"emotional stability\")"
   ]
  },
  {
   "cell_type": "code",
   "execution_count": 117,
   "metadata": {},
   "outputs": [
    {
     "data": {
      "text/plain": [
       "TtestResult(statistic=-0.959141719519839, pvalue=0.33868855060530445, df=192.8088201776519)"
      ]
     },
     "execution_count": 117,
     "metadata": {},
     "output_type": "execute_result"
    }
   ],
   "source": [
    "runtest(\"empathy\")"
   ]
  },
  {
   "cell_type": "code",
   "execution_count": 118,
   "metadata": {},
   "outputs": [
    {
     "data": {
      "text/plain": [
       "TtestResult(statistic=-1.62481550557297, pvalue=0.10581437685643937, df=195.32643874085713)"
      ]
     },
     "execution_count": 118,
     "metadata": {},
     "output_type": "execute_result"
    }
   ],
   "source": [
    "runtest(\"emotional intelligence\")"
   ]
  },
  {
   "cell_type": "code",
   "execution_count": 119,
   "metadata": {},
   "outputs": [
    {
     "data": {
      "text/plain": [
       "TtestResult(statistic=-1.330650597554177, pvalue=0.18485764205967045, df=195.03410599696065)"
      ]
     },
     "execution_count": 119,
     "metadata": {},
     "output_type": "execute_result"
    }
   ],
   "source": [
    "runtest(\"open-mindedness\")"
   ]
  },
  {
   "cell_type": "code",
   "execution_count": 120,
   "metadata": {},
   "outputs": [
    {
     "data": {
      "text/plain": [
       "TtestResult(statistic=-6.284718865753159, pvalue=2.0958151996585854e-09, df=195.37760670861385)"
      ]
     },
     "execution_count": 120,
     "metadata": {},
     "output_type": "execute_result"
    }
   ],
   "source": [
    "runtest(\"mood\")"
   ]
  },
  {
   "cell_type": "markdown",
   "metadata": {},
   "source": [
    "From the above t-tests for significance in the change in responses in each well-being category after playing Beantastic, there was an overall significant improvement in mood at 5% significance level. However, none of the other categories in relation to mental wellbeing were statistically significant at 5% significance level, though some categories, like emotional stability and emotional intelligence, came closer to being statistically significant as their p-values were still relatively low at about 0.0584 and 0.106 respectively. \n",
    "\n",
    "This implies that playing Beantastic would most likely help with regards to boosting one's emotions, and may help to a smaller extent with regards to how one recognises and handles their own emotions. However, other aspects in terms of how people treat others, such as empathy, open-mindedness, or how people respond to stresses, such as resilience and initiative, may not change significantly after playing the game."
   ]
  },
  {
   "cell_type": "markdown",
   "metadata": {},
   "source": [
    "### Question 2: Is there a relationship in the way participants respond among the different categories (eg emotional intelligence vs empathy, emotional resilience and social support etc)"
   ]
  },
  {
   "cell_type": "markdown",
   "metadata": {},
   "source": [
    "Firstly, we will be doing a correlation test to see if there are any significant correlations between the different categories."
   ]
  },
  {
   "cell_type": "code",
   "execution_count": 121,
   "metadata": {},
   "outputs": [
    {
     "data": {
      "text/plain": [
       "<Axes: >"
      ]
     },
     "execution_count": 121,
     "metadata": {},
     "output_type": "execute_result"
    },
    {
     "data": {
      "image/png": "[encoded data removed]",
      "text/plain": [
       "<Figure size 640x480 with 2 Axes>"
      ]
     },
     "metadata": {},
     "output_type": "display_data"
    }
   ],
   "source": [
    "sns.heatmap(df2.corr(), annot=True, cmap=\"crest\")"
   ]
  },
  {
   "cell_type": "markdown",
   "metadata": {},
   "source": [
    "From the above correlation matrix, there is no strong correlation between the way that the different categories are answered. "
   ]
  },
  {
   "cell_type": "code",
   "execution_count": 122,
   "metadata": {},
   "outputs": [
    {
     "data": {
      "text/plain": [
       "F_onewayResult(statistic=22.478055034968673, pvalue=3.0256747566593077e-24)"
      ]
     },
     "execution_count": 122,
     "metadata": {},
     "output_type": "execute_result"
    }
   ],
   "source": [
    "group1 = df['change in initiative']\n",
    "group2 = df['change in resilience']\n",
    "group3 = df['change in emotional stability'] \n",
    "group4 = df['change in empathy']\n",
    "group5 = df['change in emotional intelligence'] \n",
    "group6 = df['change in open-mindedness']\n",
    "group7 = df[\"change in mood\"]\n",
    "\n",
    "sp.bartlett(group1, group2, group3, group4, group5, group6, group7)\n",
    "sp.f_oneway(group1, group2, group3, group4, group5, group6, group7)\n"
   ]
  },
  {
   "cell_type": "markdown",
   "metadata": {},
   "source": [
    "### Question 3: Does the demographic affect the extent of change in the kind of mindsets they have (eg emotional resilience) (consider pre data)"
   ]
  },
  {
   "cell_type": "code",
   "execution_count": 123,
   "metadata": {},
   "outputs": [
    {
     "data": {
      "text/html": [
       "<div>\n",
       "<style scoped>\n",
       "    .dataframe tbody tr th:only-of-type {\n",
       "        vertical-align: middle;\n",
       "    }\n",
       "\n",
       "    .dataframe tbody tr th {\n",
       "        vertical-align: top;\n",
       "    }\n",
       "\n",
       "    .dataframe thead th {\n",
       "        text-align: right;\n",
       "    }\n",
       "</style>\n",
       "<table border=\"1\" class=\"dataframe\">\n",
       "  <thead>\n",
       "    <tr style=\"text-align: right;\">\n",
       "      <th></th>\n",
       "      <th>change</th>\n",
       "      <th>age_2</th>\n",
       "      <th>age_3</th>\n",
       "      <th>age_4</th>\n",
       "      <th>age_5</th>\n",
       "      <th>age_6</th>\n",
       "      <th>age_7</th>\n",
       "    </tr>\n",
       "  </thead>\n",
       "  <tbody>\n",
       "    <tr>\n",
       "      <th>0</th>\n",
       "      <td>72.727273</td>\n",
       "      <td>1</td>\n",
       "      <td>0</td>\n",
       "      <td>0</td>\n",
       "      <td>0</td>\n",
       "      <td>0</td>\n",
       "      <td>0</td>\n",
       "    </tr>\n",
       "    <tr>\n",
       "      <th>1</th>\n",
       "      <td>-5.555556</td>\n",
       "      <td>1</td>\n",
       "      <td>0</td>\n",
       "      <td>0</td>\n",
       "      <td>0</td>\n",
       "      <td>0</td>\n",
       "      <td>0</td>\n",
       "    </tr>\n",
       "    <tr>\n",
       "      <th>2</th>\n",
       "      <td>5.263158</td>\n",
       "      <td>1</td>\n",
       "      <td>0</td>\n",
       "      <td>0</td>\n",
       "      <td>0</td>\n",
       "      <td>0</td>\n",
       "      <td>0</td>\n",
       "    </tr>\n",
       "    <tr>\n",
       "      <th>3</th>\n",
       "      <td>100.000000</td>\n",
       "      <td>1</td>\n",
       "      <td>0</td>\n",
       "      <td>0</td>\n",
       "      <td>0</td>\n",
       "      <td>0</td>\n",
       "      <td>0</td>\n",
       "    </tr>\n",
       "    <tr>\n",
       "      <th>4</th>\n",
       "      <td>50.000000</td>\n",
       "      <td>0</td>\n",
       "      <td>0</td>\n",
       "      <td>0</td>\n",
       "      <td>1</td>\n",
       "      <td>0</td>\n",
       "      <td>0</td>\n",
       "    </tr>\n",
       "    <tr>\n",
       "      <th>...</th>\n",
       "      <td>...</td>\n",
       "      <td>...</td>\n",
       "      <td>...</td>\n",
       "      <td>...</td>\n",
       "      <td>...</td>\n",
       "      <td>...</td>\n",
       "      <td>...</td>\n",
       "    </tr>\n",
       "    <tr>\n",
       "      <th>94</th>\n",
       "      <td>11.111111</td>\n",
       "      <td>0</td>\n",
       "      <td>1</td>\n",
       "      <td>0</td>\n",
       "      <td>0</td>\n",
       "      <td>0</td>\n",
       "      <td>0</td>\n",
       "    </tr>\n",
       "    <tr>\n",
       "      <th>95</th>\n",
       "      <td>12.500000</td>\n",
       "      <td>1</td>\n",
       "      <td>0</td>\n",
       "      <td>0</td>\n",
       "      <td>0</td>\n",
       "      <td>0</td>\n",
       "      <td>0</td>\n",
       "    </tr>\n",
       "    <tr>\n",
       "      <th>96</th>\n",
       "      <td>0.000000</td>\n",
       "      <td>0</td>\n",
       "      <td>1</td>\n",
       "      <td>0</td>\n",
       "      <td>0</td>\n",
       "      <td>0</td>\n",
       "      <td>0</td>\n",
       "    </tr>\n",
       "    <tr>\n",
       "      <th>97</th>\n",
       "      <td>10.000000</td>\n",
       "      <td>0</td>\n",
       "      <td>1</td>\n",
       "      <td>0</td>\n",
       "      <td>0</td>\n",
       "      <td>0</td>\n",
       "      <td>0</td>\n",
       "    </tr>\n",
       "    <tr>\n",
       "      <th>98</th>\n",
       "      <td>15.384615</td>\n",
       "      <td>1</td>\n",
       "      <td>0</td>\n",
       "      <td>0</td>\n",
       "      <td>0</td>\n",
       "      <td>0</td>\n",
       "      <td>0</td>\n",
       "    </tr>\n",
       "  </tbody>\n",
       "</table>\n",
       "<p>99 rows × 7 columns</p>\n",
       "</div>"
      ],
      "text/plain": [
       "        change  age_2  age_3  age_4  age_5  age_6  age_7\n",
       "0    72.727273      1      0      0      0      0      0\n",
       "1    -5.555556      1      0      0      0      0      0\n",
       "2     5.263158      1      0      0      0      0      0\n",
       "3   100.000000      1      0      0      0      0      0\n",
       "4    50.000000      0      0      0      1      0      0\n",
       "..         ...    ...    ...    ...    ...    ...    ...\n",
       "94   11.111111      0      1      0      0      0      0\n",
       "95   12.500000      1      0      0      0      0      0\n",
       "96    0.000000      0      1      0      0      0      0\n",
       "97   10.000000      0      1      0      0      0      0\n",
       "98   15.384615      1      0      0      0      0      0\n",
       "\n",
       "[99 rows x 7 columns]"
      ]
     },
     "execution_count": 123,
     "metadata": {},
     "output_type": "execute_result"
    }
   ],
   "source": [
    "agedf = df[[\"please select your age group\", \"change in mood\"]]\n",
    "agedf.columns = [\"age\", \"change\"]\n",
    "agedf[\"age\"] = agedf.age.astype(\"category\")\n",
    "agedf = pd.get_dummies(agedf, dtype=int, drop_first=True)\n",
    "agedf\n"
   ]
  },
  {
   "cell_type": "code",
   "execution_count": 124,
   "metadata": {},
   "outputs": [
    {
     "name": "stdout",
     "output_type": "stream",
     "text": [
      "                            OLS Regression Results                            \n",
      "==============================================================================\n",
      "Dep. Variable:                 change   R-squared:                       0.035\n",
      "Model:                            OLS   Adj. R-squared:                 -0.028\n",
      "Method:                 Least Squares   F-statistic:                    0.5592\n",
      "Date:                Thu, 19 Dec 2024   Prob (F-statistic):              0.762\n",
      "Time:                        14:05:58   Log-Likelihood:                -536.80\n",
      "No. Observations:                  99   AIC:                             1088.\n",
      "Df Residuals:                      92   BIC:                             1106.\n",
      "Df Model:                           6                                         \n",
      "Covariance Type:            nonrobust                                         \n",
      "==============================================================================\n",
      "                 coef    std err          t      P>|t|      [0.025      0.975]\n",
      "------------------------------------------------------------------------------\n",
      "Intercept     24.4318     40.181      0.608      0.545     -55.370     104.234\n",
      "age_2         18.7717     41.173      0.456      0.650     -63.001     100.544\n",
      "age_3          1.6237     41.642      0.039      0.969     -81.081      84.329\n",
      "age_4         23.4410     42.955      0.546      0.587     -61.871     108.753\n",
      "age_5         -7.4904     44.923     -0.167      0.868     -96.712      81.731\n",
      "age_6         11.0286     45.560      0.242      0.809     -79.458     101.515\n",
      "age_7        -19.1687     69.595     -0.275      0.784    -157.390     119.052\n",
      "==============================================================================\n",
      "Omnibus:                      106.282   Durbin-Watson:                   1.982\n",
      "Prob(Omnibus):                  0.000   Jarque-Bera (JB):             1568.632\n",
      "Skew:                           3.524   Prob(JB):                         0.00\n",
      "Kurtosis:                      21.182   Cond. No.                         21.8\n",
      "==============================================================================\n",
      "\n",
      "Notes:\n",
      "[1] Standard Errors assume that the covariance matrix of the errors is correctly specified.\n"
     ]
    }
   ],
   "source": [
    "model = smf.ols(formula='change ~ age_2 + age_3 + age_4 + age_5 + age_6 + age_7', data=agedf)\n",
    "print(model.fit().summary())"
   ]
  },
  {
   "cell_type": "markdown",
   "metadata": {},
   "source": [
    "not useful model"
   ]
  },
  {
   "cell_type": "code",
   "execution_count": null,
   "metadata": {},
   "outputs": [
    {
     "data": {
      "text/html": [
       "<div>\n",
       "<style scoped>\n",
       "    .dataframe tbody tr th:only-of-type {\n",
       "        vertical-align: middle;\n",
       "    }\n",
       "\n",
       "    .dataframe tbody tr th {\n",
       "        vertical-align: top;\n",
       "    }\n",
       "\n",
       "    .dataframe thead th {\n",
       "        text-align: right;\n",
       "    }\n",
       "</style>\n",
       "<table border=\"1\" class=\"dataframe\">\n",
       "  <thead>\n",
       "    <tr style=\"text-align: right;\">\n",
       "      <th></th>\n",
       "      <th>change</th>\n",
       "      <th>job_2</th>\n",
       "      <th>job_3</th>\n",
       "      <th>job_4</th>\n",
       "      <th>job_6</th>\n",
       "      <th>job_7</th>\n",
       "      <th>job_8</th>\n",
       "      <th>job_10</th>\n",
       "      <th>job_12</th>\n",
       "      <th>job_13</th>\n",
       "    </tr>\n",
       "  </thead>\n",
       "  <tbody>\n",
       "    <tr>\n",
       "      <th>0</th>\n",
       "      <td>72.727273</td>\n",
       "      <td>0</td>\n",
       "      <td>0</td>\n",
       "      <td>0</td>\n",
       "      <td>0</td>\n",
       "      <td>0</td>\n",
       "      <td>0</td>\n",
       "      <td>0</td>\n",
       "      <td>0</td>\n",
       "      <td>0</td>\n",
       "    </tr>\n",
       "    <tr>\n",
       "      <th>1</th>\n",
       "      <td>-5.555556</td>\n",
       "      <td>0</td>\n",
       "      <td>0</td>\n",
       "      <td>0</td>\n",
       "      <td>0</td>\n",
       "      <td>0</td>\n",
       "      <td>0</td>\n",
       "      <td>0</td>\n",
       "      <td>0</td>\n",
       "      <td>0</td>\n",
       "    </tr>\n",
       "    <tr>\n",
       "      <th>2</th>\n",
       "      <td>5.263158</td>\n",
       "      <td>0</td>\n",
       "      <td>0</td>\n",
       "      <td>0</td>\n",
       "      <td>0</td>\n",
       "      <td>0</td>\n",
       "      <td>0</td>\n",
       "      <td>0</td>\n",
       "      <td>0</td>\n",
       "      <td>0</td>\n",
       "    </tr>\n",
       "    <tr>\n",
       "      <th>3</th>\n",
       "      <td>100.000000</td>\n",
       "      <td>0</td>\n",
       "      <td>0</td>\n",
       "      <td>0</td>\n",
       "      <td>0</td>\n",
       "      <td>1</td>\n",
       "      <td>0</td>\n",
       "      <td>0</td>\n",
       "      <td>0</td>\n",
       "      <td>0</td>\n",
       "    </tr>\n",
       "    <tr>\n",
       "      <th>4</th>\n",
       "      <td>50.000000</td>\n",
       "      <td>0</td>\n",
       "      <td>0</td>\n",
       "      <td>0</td>\n",
       "      <td>1</td>\n",
       "      <td>0</td>\n",
       "      <td>0</td>\n",
       "      <td>0</td>\n",
       "      <td>0</td>\n",
       "      <td>0</td>\n",
       "    </tr>\n",
       "    <tr>\n",
       "      <th>...</th>\n",
       "      <td>...</td>\n",
       "      <td>...</td>\n",
       "      <td>...</td>\n",
       "      <td>...</td>\n",
       "      <td>...</td>\n",
       "      <td>...</td>\n",
       "      <td>...</td>\n",
       "      <td>...</td>\n",
       "      <td>...</td>\n",
       "      <td>...</td>\n",
       "    </tr>\n",
       "    <tr>\n",
       "      <th>94</th>\n",
       "      <td>11.111111</td>\n",
       "      <td>1</td>\n",
       "      <td>0</td>\n",
       "      <td>0</td>\n",
       "      <td>0</td>\n",
       "      <td>0</td>\n",
       "      <td>0</td>\n",
       "      <td>0</td>\n",
       "      <td>0</td>\n",
       "      <td>0</td>\n",
       "    </tr>\n",
       "    <tr>\n",
       "      <th>95</th>\n",
       "      <td>12.500000</td>\n",
       "      <td>1</td>\n",
       "      <td>0</td>\n",
       "      <td>0</td>\n",
       "      <td>0</td>\n",
       "      <td>0</td>\n",
       "      <td>0</td>\n",
       "      <td>0</td>\n",
       "      <td>0</td>\n",
       "      <td>0</td>\n",
       "    </tr>\n",
       "    <tr>\n",
       "      <th>96</th>\n",
       "      <td>0.000000</td>\n",
       "      <td>0</td>\n",
       "      <td>0</td>\n",
       "      <td>0</td>\n",
       "      <td>1</td>\n",
       "      <td>0</td>\n",
       "      <td>0</td>\n",
       "      <td>0</td>\n",
       "      <td>0</td>\n",
       "      <td>0</td>\n",
       "    </tr>\n",
       "    <tr>\n",
       "      <th>97</th>\n",
       "      <td>10.000000</td>\n",
       "      <td>0</td>\n",
       "      <td>0</td>\n",
       "      <td>0</td>\n",
       "      <td>1</td>\n",
       "      <td>0</td>\n",
       "      <td>0</td>\n",
       "      <td>0</td>\n",
       "      <td>0</td>\n",
       "      <td>0</td>\n",
       "    </tr>\n",
       "    <tr>\n",
       "      <th>98</th>\n",
       "      <td>15.384615</td>\n",
       "      <td>0</td>\n",
       "      <td>0</td>\n",
       "      <td>0</td>\n",
       "      <td>1</td>\n",
       "      <td>0</td>\n",
       "      <td>0</td>\n",
       "      <td>0</td>\n",
       "      <td>0</td>\n",
       "      <td>0</td>\n",
       "    </tr>\n",
       "  </tbody>\n",
       "</table>\n",
       "<p>99 rows × 10 columns</p>\n",
       "</div>"
      ],
      "text/plain": [
       "        change  job_2  job_3  job_4  job_6  job_7  job_8  job_10  job_12  \\\n",
       "0    72.727273      0      0      0      0      0      0       0       0   \n",
       "1    -5.555556      0      0      0      0      0      0       0       0   \n",
       "2     5.263158      0      0      0      0      0      0       0       0   \n",
       "3   100.000000      0      0      0      0      1      0       0       0   \n",
       "4    50.000000      0      0      0      1      0      0       0       0   \n",
       "..         ...    ...    ...    ...    ...    ...    ...     ...     ...   \n",
       "94   11.111111      1      0      0      0      0      0       0       0   \n",
       "95   12.500000      1      0      0      0      0      0       0       0   \n",
       "96    0.000000      0      0      0      1      0      0       0       0   \n",
       "97   10.000000      0      0      0      1      0      0       0       0   \n",
       "98   15.384615      0      0      0      1      0      0       0       0   \n",
       "\n",
       "    job_13  \n",
       "0        0  \n",
       "1        0  \n",
       "2        0  \n",
       "3        0  \n",
       "4        0  \n",
       "..     ...  \n",
       "94       0  \n",
       "95       0  \n",
       "96       0  \n",
       "97       0  \n",
       "98       0  \n",
       "\n",
       "[99 rows x 10 columns]"
      ]
     },
     "execution_count": 125,
     "metadata": {},
     "output_type": "execute_result"
    }
   ],
   "source": [
    "jobdf = df[[\"job status\", \"change in mood\"]]\n",
    "jobdf.columns = [\"job\", \"change\"]\n",
    "jobdf[\"job\"] = jobdf.job.astype(\"category\")\n",
    "jobdf = pd.get_dummies(jobdf, dtype=int, drop_first=True)\n",
    "jobdf # group broader, eg uni vs poly + ite"
   ]
  },
  {
   "cell_type": "code",
   "execution_count": 128,
   "metadata": {},
   "outputs": [
    {
     "name": "stdout",
     "output_type": "stream",
     "text": [
      "                            OLS Regression Results                            \n",
      "==============================================================================\n",
      "Dep. Variable:                 change   R-squared:                       0.080\n",
      "Model:                            OLS   Adj. R-squared:                 -0.013\n",
      "Method:                 Least Squares   F-statistic:                    0.8651\n",
      "Date:                Thu, 19 Dec 2024   Prob (F-statistic):              0.559\n",
      "Time:                        14:29:34   Log-Likelihood:                -534.42\n",
      "No. Observations:                  99   AIC:                             1089.\n",
      "Df Residuals:                      89   BIC:                             1115.\n",
      "Df Model:                           9                                         \n",
      "Covariance Type:            nonrobust                                         \n",
      "==============================================================================\n",
      "                 coef    std err          t      P>|t|      [0.025      0.975]\n",
      "------------------------------------------------------------------------------\n",
      "Intercept     56.1470     18.801      2.986      0.004      18.790      93.504\n",
      "job_2         -6.8450     23.781     -0.288      0.774     -54.098      40.408\n",
      "job_3        -35.9547     44.092     -0.815      0.417    -123.564      51.654\n",
      "job_4        -42.0736     29.727     -1.415      0.160    -101.140      16.992\n",
      "job_6        -25.8213     20.595     -1.254      0.213     -66.744      15.101\n",
      "job_7        -13.9712     31.460     -0.444      0.658     -76.481      48.539\n",
      "job_8        -27.3427     26.588     -1.028      0.307     -80.173      25.488\n",
      "job_10       -79.2239     59.453     -1.333      0.186    -197.356      38.908\n",
      "job_12       -18.6413     29.727     -0.627      0.532     -77.707      40.425\n",
      "job_13        77.1864     59.453      1.298      0.198     -40.946     195.319\n",
      "==============================================================================\n",
      "Omnibus:                      106.924   Durbin-Watson:                   1.812\n",
      "Prob(Omnibus):                  0.000   Jarque-Bera (JB):             1606.666\n",
      "Skew:                           3.548   Prob(JB):                         0.00\n",
      "Kurtosis:                      21.416   Cond. No.                         14.2\n",
      "==============================================================================\n",
      "\n",
      "Notes:\n",
      "[1] Standard Errors assume that the covariance matrix of the errors is correctly specified.\n"
     ]
    }
   ],
   "source": [
    "model2 = smf.ols(formula='change ~ job_2 + job_3 + job_4 + job_6 + job_7 + job_8 + job_10 + job_12 + job_13', data=jobdf)\n",
    "print(model2.fit().summary())"
   ]
  },
  {
   "cell_type": "markdown",
   "metadata": {},
   "source": [
    "not useful model"
   ]
  },
  {
   "cell_type": "code",
   "execution_count": null,
   "metadata": {},
   "outputs": [
    {
     "name": "stdout",
     "output_type": "stream",
     "text": [
      "                            OLS Regression Results                            \n",
      "==============================================================================\n",
      "Dep. Variable:               mood_pre   R-squared:                       0.116\n",
      "Model:                            OLS   Adj. R-squared:                  0.107\n",
      "Method:                 Least Squares   F-statistic:                     12.74\n",
      "Date:                Thu, 19 Dec 2024   Prob (F-statistic):           0.000558\n",
      "Time:                        14:05:58   Log-Likelihood:                -411.70\n",
      "No. Observations:                  99   AIC:                             827.4\n",
      "Df Residuals:                      97   BIC:                             832.6\n",
      "Df Model:                           1                                         \n",
      "Covariance Type:            nonrobust                                         \n",
      "======================================================================================\n",
      "                         coef    std err          t      P>|t|      [0.025      0.975]\n",
      "--------------------------------------------------------------------------------------\n",
      "const                 25.6576      8.767      2.927      0.004       8.258      43.057\n",
      "social support_pre     0.3855      0.108      3.570      0.001       0.171       0.600\n",
      "==============================================================================\n",
      "Omnibus:                        1.779   Durbin-Watson:                   2.077\n",
      "Prob(Omnibus):                  0.411   Jarque-Bera (JB):                1.412\n",
      "Skew:                           0.099   Prob(JB):                        0.494\n",
      "Kurtosis:                       2.449   Cond. No.                         453.\n",
      "==============================================================================\n",
      "\n",
      "Notes:\n",
      "[1] Standard Errors assume that the covariance matrix of the errors is correctly specified.\n"
     ]
    }
   ],
   "source": [
    "x = df[\"social support_pre\"]\n",
    "y = df[\"mood_pre\"] #mood post?\n",
    "x = sm.add_constant(x)\n",
    "model3 = sm.OLS(y, x)\n",
    "results = model3.fit()\n",
    "print(results.summary())"
   ]
  },
  {
   "cell_type": "markdown",
   "metadata": {},
   "source": [
    "From the above regression model, "
   ]
  }
 ],
 "metadata": {
  "kernelspec": {
   "display_name": "base",
   "language": "python",
   "name": "python3"
  },
  "language_info": {
   "codemirror_mode": {
    "name": "ipython",
    "version": 3
   },
   "file_extension": ".py",
   "mimetype": "text/x-python",
   "name": "python",
   "nbconvert_exporter": "python",
   "pygments_lexer": "ipython3",
   "version": "3.12.3"
  }
 },
 "nbformat": 4,
 "nbformat_minor": 2
}
