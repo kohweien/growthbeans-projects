{
 "cells": [
  {
   "cell_type": "markdown",
   "metadata": {},
   "source": [
    "## Wing Hyun and Wei En\n",
    "\n",
    "Hello this is Project 5!! We are analysing the data of the people who played the Beantastic card games to find out more about the changes in certain aspects of their wellbeing, as well as the relationships between the different demographic groups and how they answered certain questions. \n",
    "\n",
    "These are the three questions we will seek to answer in this analysis:\n",
    "\n",
    "1. Are there significant changes in the response of participants after playing Beantastic?\n",
    "2. Is there a relationship in the way participants respond amongst the different categories (eg emotional intelligence vs empathy, emotional resilience and social support etc) --- might get rid\n",
    "3. Does the demographic affect the extent of change in the different categories of well-being they have (eg emotional resilience)\n"
   ]
  },
  {
   "cell_type": "code",
   "execution_count": 1,
   "metadata": {},
   "outputs": [
    {
     "data": {
      "text/plain": [
       "Index(['te', 'please select your age group', 'job status', 'other',\n",
       "       'over the last two weeks, i have felt cheerful and in good spirits',\n",
       "       'over the last two weeks, i have felt calm and relaxed',\n",
       "       'over the last two weeks, i have felt active and vigorous',\n",
       "       'over the last two weeks, i woke up feeling fresh and rested',\n",
       "       'over the last two weeks, my daily life has been filled with things that interest me',\n",
       "       'social support_pre',\n",
       "       'if you can learn anything from todayâ€™s session, what do you hope to take away? how is it important for you? what difference might it make for you?',\n",
       "       'share your email!', 'start date (utc)_pre', 'submit date (utc)_pre',\n",
       "       'network id_pre', 'initiative_pre', 'resilience_pre',\n",
       "       'emotional stability_pre', 'empathy_pre', 'emotional intelligence_pre',\n",
       "       'open-mindedness_pre', '#',\n",
       "       'after the session, i feel cheerful and in good spirits',\n",
       "       'after the session, i feel calm and relaxed',\n",
       "       'after the session, i feel active and vigorous',\n",
       "       'after the session, i feel fresh and rested',\n",
       "       'after the session, my life has been filled with things that interest me',\n",
       "       'social support_post', 'the session was insightful and engaging for me',\n",
       "       'am able to explore what could cause me stress',\n",
       "       'am more aware of the self care / coping strategies that work for me',\n",
       "       'am more aware of other coping strategies i can adopt',\n",
       "       'am more aware of how others cope differently from me',\n",
       "       'am more aware of how different events can induce stress differently in people',\n",
       "       'what is one thing you have learnt about yourself from the session?',\n",
       "       'what is one key takeaway on how we each cope and manage stress?',\n",
       "       'one thing that i'd start doing more of / differently / stop doing is...',\n",
       "       'what went well in the session and what contributed to it?',\n",
       "       'looking ahead, support that i might need / be interested in to cope better with stress is/are...',\n",
       "       'any other feedback?', 'start date (utc)_post',\n",
       "       'submit date (utc)_post', 'network id_post', 'initiative_post',\n",
       "       'resilience_post', 'emotional stability_post', 'empathy_post',\n",
       "       'emotional intelligence_post', 'open-mindedness_post',\n",
       "       'change in initiative', 'change in resilience',\n",
       "       'change in emotional stability', 'change in empathy',\n",
       "       'change in emotional intelligence', 'change in open-mindedness'],\n",
       "      dtype='object')"
      ]
     },
     "execution_count": 1,
     "metadata": {},
     "output_type": "execute_result"
    }
   ],
   "source": [
    "import pandas as pd\n",
    "import numpy as np\n",
    "import matplotlib.pyplot as plt\n",
    "import seaborn as sns\n",
    "import warnings as wr\n",
    "\n",
    "import geopandas as gp\n",
    "import folium as fl\n",
    "import scipy.stats as sp\n",
    "import statsmodels.api as sm\n",
    "import statsmodels.formula.api as smf\n",
    "\n",
    "wr.filterwarnings('ignore')\n",
    "\n",
    "df = pd.read_csv(\"processed_beantastic_data.csv\")\n",
    "\n",
    "df.columns"
   ]
  },
  {
   "cell_type": "code",
   "execution_count": 2,
   "metadata": {},
   "outputs": [],
   "source": [
    "df['mood_pre'] = (df['over the last two weeks, i have felt cheerful and in good spirits'] \n",
    "                  + df['over the last two weeks, i have felt calm and relaxed'] \n",
    "                  + df['over the last two weeks, i have felt active and vigorous'] \n",
    "                  + df['over the last two weeks, i woke up feeling fresh and rested'] \n",
    "                  + df['over the last two weeks, my daily life has been filled with things that interest me']) / 25 * 100\n",
    "df['mood_post'] = (df['after the session, i feel cheerful and in good spirits'] \n",
    "                   + df['after the session, i feel calm and relaxed'] \n",
    "                   + df['after the session, i feel active and vigorous'] \n",
    "                   + df['after the session, i feel fresh and rested'] \n",
    "                   + df['after the session, my life has been filled with things that interest me']) / 25 * 100\n",
    "df['change in mood'] = (df['mood_post'] - df['mood_pre']) / df['mood_pre'] * 100"
   ]
  },
  {
   "cell_type": "code",
   "execution_count": 4,
   "metadata": {},
   "outputs": [
    {
     "data": {
      "text/plain": [
       "Index(['te', 'please select your age group_pre', 'job status', 'other',\n",
       "       'over the last two weeks, i have felt cheerful and in good spirits',\n",
       "       'over the last two weeks, i have felt calm and relaxed',\n",
       "       'over the last two weeks, i have felt active and vigorous',\n",
       "       'over the last two weeks, i woke up feeling fresh and rested',\n",
       "       'over the last two weeks, my daily life has been filled with things that interest me',\n",
       "       'i am able to persevere in the face of challenges._pre',\n",
       "       ...\n",
       "       'change in i can imagine what itâ€™s like to be in someone elseâ€™s shoes.',\n",
       "       'change in i can tell the difference between my friendâ€™s feelings and my own.',\n",
       "       'change in i consider other peopleâ€™s points of view in discussions.',\n",
       "       'change in when i am with someone who gets sad news, i feel sad for a moment too.',\n",
       "       'change in when i am upset or unhappy, i get over it quickly.',\n",
       "       'change in i can explain to others how i am feeling.',\n",
       "       'change in i can agree to disagree with other people.',\n",
       "       'change in i am aware of what other people think of me.',\n",
       "       'change in hearing laughter makes me smile.',\n",
       "       'change in i am aware of other people's emotions.'],\n",
       "      dtype='object', length=146)"
      ]
     },
     "execution_count": 4,
     "metadata": {},
     "output_type": "execute_result"
    }
   ],
   "source": [
    "data = pd.read_csv(\"survey_results_with_changes1.csv\")\n",
    "data.columns"
   ]
  },
  {
   "cell_type": "markdown",
   "metadata": {},
   "source": [
    "### Question 1: Are there significant changes in the response of participants after playing Beantastic?"
   ]
  },
  {
   "cell_type": "markdown",
   "metadata": {},
   "source": [
    "We will be using four different scales to demonstrate the changes in the response of participants before and after the game. \n",
    "\n",
    "#### Question 1.1: Are there significant changes in the different categories of well-being after playing Beantastic?\n",
    "\n",
    "The first scale we will be using is a scale that we came up with on our own by classifying all the various questions into specific categories.\n",
    "\n",
    "First, we will visualise the data to see the extent of changes in the different categories of wellbeing after playing Beantastic."
   ]
  },
  {
   "cell_type": "code",
   "execution_count": null,
   "metadata": {},
   "outputs": [
    {
     "data": {
      "text/html": [
       "<div>\n",
       "<style scoped>\n",
       "    .dataframe tbody tr th:only-of-type {\n",
       "        vertical-align: middle;\n",
       "    }\n",
       "\n",
       "    .dataframe tbody tr th {\n",
       "        vertical-align: top;\n",
       "    }\n",
       "\n",
       "    .dataframe thead th {\n",
       "        text-align: right;\n",
       "    }\n",
       "</style>\n",
       "<table border=\"1\" class=\"dataframe\">\n",
       "  <thead>\n",
       "    <tr style=\"text-align: right;\">\n",
       "      <th></th>\n",
       "      <th>change in initiative</th>\n",
       "      <th>change in resilience</th>\n",
       "      <th>change in emotional stability</th>\n",
       "      <th>change in empathy</th>\n",
       "      <th>change in emotional intelligence</th>\n",
       "      <th>change in open-mindedness</th>\n",
       "      <th>change in mood</th>\n",
       "    </tr>\n",
       "  </thead>\n",
       "  <tbody>\n",
       "    <tr>\n",
       "      <th>count</th>\n",
       "      <td>99.000000</td>\n",
       "      <td>99.000000</td>\n",
       "      <td>99.000000</td>\n",
       "      <td>99.000000</td>\n",
       "      <td>99.000000</td>\n",
       "      <td>99.000000</td>\n",
       "      <td>99.000000</td>\n",
       "    </tr>\n",
       "    <tr>\n",
       "      <th>mean</th>\n",
       "      <td>4.832852</td>\n",
       "      <td>2.835823</td>\n",
       "      <td>6.694434</td>\n",
       "      <td>2.113490</td>\n",
       "      <td>4.201361</td>\n",
       "      <td>5.433312</td>\n",
       "      <td>35.754939</td>\n",
       "    </tr>\n",
       "    <tr>\n",
       "      <th>std</th>\n",
       "      <td>17.378335</td>\n",
       "      <td>11.615708</td>\n",
       "      <td>16.795941</td>\n",
       "      <td>10.315226</td>\n",
       "      <td>10.348186</td>\n",
       "      <td>18.494487</td>\n",
       "      <td>56.051785</td>\n",
       "    </tr>\n",
       "    <tr>\n",
       "      <th>min</th>\n",
       "      <td>-33.333333</td>\n",
       "      <td>-29.032258</td>\n",
       "      <td>-30.434783</td>\n",
       "      <td>-25.000000</td>\n",
       "      <td>-22.580645</td>\n",
       "      <td>-35.714286</td>\n",
       "      <td>-23.076923</td>\n",
       "    </tr>\n",
       "    <tr>\n",
       "      <th>25%</th>\n",
       "      <td>0.000000</td>\n",
       "      <td>-4.545455</td>\n",
       "      <td>-2.777778</td>\n",
       "      <td>-3.175403</td>\n",
       "      <td>0.000000</td>\n",
       "      <td>0.000000</td>\n",
       "      <td>5.263158</td>\n",
       "    </tr>\n",
       "    <tr>\n",
       "      <th>50%</th>\n",
       "      <td>0.000000</td>\n",
       "      <td>0.000000</td>\n",
       "      <td>5.263158</td>\n",
       "      <td>0.000000</td>\n",
       "      <td>3.225806</td>\n",
       "      <td>0.000000</td>\n",
       "      <td>20.000000</td>\n",
       "    </tr>\n",
       "    <tr>\n",
       "      <th>75%</th>\n",
       "      <td>14.285714</td>\n",
       "      <td>9.761905</td>\n",
       "      <td>13.809524</td>\n",
       "      <td>7.692308</td>\n",
       "      <td>8.452381</td>\n",
       "      <td>10.555556</td>\n",
       "      <td>50.000000</td>\n",
       "    </tr>\n",
       "    <tr>\n",
       "      <th>max</th>\n",
       "      <td>60.000000</td>\n",
       "      <td>31.250000</td>\n",
       "      <td>71.428571</td>\n",
       "      <td>34.782609</td>\n",
       "      <td>52.631579</td>\n",
       "      <td>125.000000</td>\n",
       "      <td>400.000000</td>\n",
       "    </tr>\n",
       "  </tbody>\n",
       "</table>\n",
       "</div>"
      ],
      "text/plain": [
       "       change in initiative  change in resilience  \\\n",
       "count             99.000000             99.000000   \n",
       "mean               4.832852              2.835823   \n",
       "std               17.378335             11.615708   \n",
       "min              -33.333333            -29.032258   \n",
       "25%                0.000000             -4.545455   \n",
       "50%                0.000000              0.000000   \n",
       "75%               14.285714              9.761905   \n",
       "max               60.000000             31.250000   \n",
       "\n",
       "       change in emotional stability  change in empathy  \\\n",
       "count                      99.000000          99.000000   \n",
       "mean                        6.694434           2.113490   \n",
       "std                        16.795941          10.315226   \n",
       "min                       -30.434783         -25.000000   \n",
       "25%                        -2.777778          -3.175403   \n",
       "50%                         5.263158           0.000000   \n",
       "75%                        13.809524           7.692308   \n",
       "max                        71.428571          34.782609   \n",
       "\n",
       "       change in emotional intelligence  change in open-mindedness  \\\n",
       "count                         99.000000                  99.000000   \n",
       "mean                           4.201361                   5.433312   \n",
       "std                           10.348186                  18.494487   \n",
       "min                          -22.580645                 -35.714286   \n",
       "25%                            0.000000                   0.000000   \n",
       "50%                            3.225806                   0.000000   \n",
       "75%                            8.452381                  10.555556   \n",
       "max                           52.631579                 125.000000   \n",
       "\n",
       "       change in mood  \n",
       "count       99.000000  \n",
       "mean        35.754939  \n",
       "std         56.051785  \n",
       "min        -23.076923  \n",
       "25%          5.263158  \n",
       "50%         20.000000  \n",
       "75%         50.000000  \n",
       "max        400.000000  "
      ]
     },
     "execution_count": 4,
     "metadata": {},
     "output_type": "execute_result"
    }
   ],
   "source": [
    "df2 = df[['change in initiative', 'change in resilience',\n",
    "       'change in emotional stability', 'change in empathy',\n",
    "       'change in emotional intelligence', 'change in open-mindedness', \n",
    "       'change in mood']]\n",
    "df2.describe()\n",
    "\n",
    "#use the scales provided by shane -- different scales may have different results\n",
    "#can help project 4 with similar analyses (trang, berry, linh)"
   ]
  },
  {
   "cell_type": "code",
   "execution_count": null,
   "metadata": {},
   "outputs": [
    {
     "data": {
      "text/plain": [
       "<Axes: >"
      ]
     },
     "execution_count": 5,
     "metadata": {},
     "output_type": "execute_result"
    },
    {
     "data": {
      "image/png": "[encoded data removed]",
      "text/plain": [
       "<Figure size 1000x800 with 1 Axes>"
      ]
     },
     "metadata": {},
     "output_type": "display_data"
    }
   ],
   "source": [
    "df2.plot.box(figsize=(10, 8), rot=30, grid=True)"
   ]
  },
  {
   "cell_type": "markdown",
   "metadata": {},
   "source": [
    "From the above boxplot and summary of statistics, the greatest change would be that for mood as the median of the change in mood is largest at 20 percentage points, while initiative, resilience, empathy and open-mindedness changed the least as the median of change is 0 percentage points. \n",
    "\n",
    "The change in mood varied the most while the change in empathy varied the least, as visualised by the spread of data in the IQR of the boxplots.\n",
    "\n",
    "Now, we will be performing t-tests to see whether these changes in the different categories of well-being are significant."
   ]
  },
  {
   "cell_type": "code",
   "execution_count": null,
   "metadata": {},
   "outputs": [],
   "source": [
    "def runtest(x):\n",
    "    group1 = df[x+\"_pre\"]\n",
    "    group2 = df[x+\"_post\"]\n",
    "    return sp.ttest_ind(group1, group2, equal_var=False)"
   ]
  },
  {
   "cell_type": "code",
   "execution_count": null,
   "metadata": {},
   "outputs": [
    {
     "data": {
      "text/plain": [
       "TtestResult(statistic=-1.1480756957638547, pvalue=0.2523381354803541, df=195.78776903064878)"
      ]
     },
     "execution_count": 7,
     "metadata": {},
     "output_type": "execute_result"
    }
   ],
   "source": [
    "runtest(\"initiative\")"
   ]
  },
  {
   "cell_type": "code",
   "execution_count": null,
   "metadata": {},
   "outputs": [
    {
     "data": {
      "text/plain": [
       "TtestResult(statistic=-0.7923105587775096, pvalue=0.4291395978573438, df=195.57882592518774)"
      ]
     },
     "execution_count": 8,
     "metadata": {},
     "output_type": "execute_result"
    }
   ],
   "source": [
    "runtest(\"resilience\")"
   ]
  },
  {
   "cell_type": "code",
   "execution_count": null,
   "metadata": {},
   "outputs": [
    {
     "data": {
      "text/plain": [
       "TtestResult(statistic=-1.9036304984464805, pvalue=0.05842694777920788, df=195.53851975738672)"
      ]
     },
     "execution_count": 9,
     "metadata": {},
     "output_type": "execute_result"
    }
   ],
   "source": [
    "runtest(\"emotional stability\")"
   ]
  },
  {
   "cell_type": "code",
   "execution_count": null,
   "metadata": {},
   "outputs": [
    {
     "data": {
      "text/plain": [
       "TtestResult(statistic=-0.959141719519839, pvalue=0.33868855060530445, df=192.8088201776519)"
      ]
     },
     "execution_count": 10,
     "metadata": {},
     "output_type": "execute_result"
    }
   ],
   "source": [
    "runtest(\"empathy\")"
   ]
  },
  {
   "cell_type": "code",
   "execution_count": null,
   "metadata": {},
   "outputs": [
    {
     "data": {
      "text/plain": [
       "TtestResult(statistic=-1.62481550557297, pvalue=0.10581437685643937, df=195.32643874085713)"
      ]
     },
     "execution_count": 11,
     "metadata": {},
     "output_type": "execute_result"
    }
   ],
   "source": [
    "runtest(\"emotional intelligence\")"
   ]
  },
  {
   "cell_type": "code",
   "execution_count": null,
   "metadata": {},
   "outputs": [
    {
     "data": {
      "text/plain": [
       "TtestResult(statistic=-1.330650597554177, pvalue=0.18485764205967045, df=195.03410599696065)"
      ]
     },
     "execution_count": 12,
     "metadata": {},
     "output_type": "execute_result"
    }
   ],
   "source": [
    "runtest(\"open-mindedness\")"
   ]
  },
  {
   "cell_type": "code",
   "execution_count": null,
   "metadata": {},
   "outputs": [
    {
     "data": {
      "text/plain": [
       "TtestResult(statistic=-6.284718865753159, pvalue=2.0958151996585854e-09, df=195.37760670861385)"
      ]
     },
     "execution_count": 13,
     "metadata": {},
     "output_type": "execute_result"
    }
   ],
   "source": [
    "runtest(\"mood\")"
   ]
  },
  {
   "cell_type": "markdown",
   "metadata": {},
   "source": [
    "From the above t-tests for significance in the change in responses in each well-being category after playing Beantastic, there was an overall significant improvement in mood at 5% significance level. However, none of the other categories in relation to mental wellbeing were statistically significant at 5% significance level, though some categories, like emotional stability and emotional intelligence, came closer to being statistically significant as their p-values were still relatively low at about 0.0584 and 0.106 respectively. \n",
    "\n",
    "This implies that playing Beantastic would most likely help with regards to boosting one's emotions, and may help to a smaller extent with regards to how one recognises and handles their own emotions. However, other aspects in terms of how people treat others, such as empathy, open-mindedness, or how people respond to stresses, such as resilience and initiative, may not change significantly after playing the game."
   ]
  },
  {
   "cell_type": "markdown",
   "metadata": {},
   "source": [
    "#### Question 1.2: Is there a change in the empathy of participants after playing Beantastic?\n",
    "\n",
    "The scale we will be using is based on the Empathy Assessment Index (EAI), which consists of 5 categories: Affective Response (AR), Emotional Regulation (ER), Perspective Taking (PT), Self-Other Awareness (SOA) and Empathetic Attitudes (EA). After classifying the questions in the survey according to these categories, we have excluded the EA category as no questions match the definition of EA.\n",
    "\n",
    "First, we will visualise the data to see the extent of changes in the different categories of empathy after playing Beantastic."
   ]
  },
  {
   "cell_type": "code",
   "execution_count": 5,
   "metadata": {},
   "outputs": [],
   "source": [
    "def addcolumns(olddata, newdata, list, category):\n",
    "    newdata[category + \"_pre\"] = 0\n",
    "    newdata[category + \"_post\"] = 0\n",
    "    for i in list:\n",
    "        newdata[i + \"_pre\"] = olddata[i + \"_pre\"]\n",
    "        newdata[category + \"_pre\"] += newdata[i + \"_pre\"]\n",
    "        newdata[i + \"_post\"] = olddata[i + \"_post\"]\n",
    "        newdata[category + \"_post\"] += newdata[i + \"_post\"]\n",
    "    newdata[category + \"_pre\"] = newdata[category + \"_pre\"] / (len(list) * 5) * 100\n",
    "    newdata[category + \"_post\"] = newdata[category + \"_post\"] / (len(list) * 5) * 100\n",
    "    pre = newdata[category + \"_pre\"]\n",
    "    post = newdata[category + \"_post\"]\n",
    "    newdata[\"change in \" + category] = (post - pre) / pre * 100"
   ]
  },
  {
   "cell_type": "code",
   "execution_count": 9,
   "metadata": {},
   "outputs": [
    {
     "data": {
      "text/html": [
       "<div>\n",
       "<style scoped>\n",
       "    .dataframe tbody tr th:only-of-type {\n",
       "        vertical-align: middle;\n",
       "    }\n",
       "\n",
       "    .dataframe tbody tr th {\n",
       "        vertical-align: top;\n",
       "    }\n",
       "\n",
       "    .dataframe thead th {\n",
       "        text-align: right;\n",
       "    }\n",
       "</style>\n",
       "<table border=\"1\" class=\"dataframe\">\n",
       "  <thead>\n",
       "    <tr style=\"text-align: right;\">\n",
       "      <th></th>\n",
       "      <th>change in AR</th>\n",
       "      <th>change in ER</th>\n",
       "      <th>change in PT</th>\n",
       "      <th>change in SOA</th>\n",
       "    </tr>\n",
       "  </thead>\n",
       "  <tbody>\n",
       "    <tr>\n",
       "      <th>count</th>\n",
       "      <td>99.000000</td>\n",
       "      <td>99.000000</td>\n",
       "      <td>99.000000</td>\n",
       "      <td>99.000000</td>\n",
       "    </tr>\n",
       "    <tr>\n",
       "      <th>mean</th>\n",
       "      <td>1.882945</td>\n",
       "      <td>7.478876</td>\n",
       "      <td>4.570778</td>\n",
       "      <td>3.737547</td>\n",
       "    </tr>\n",
       "    <tr>\n",
       "      <th>std</th>\n",
       "      <td>11.688570</td>\n",
       "      <td>15.039453</td>\n",
       "      <td>12.441412</td>\n",
       "      <td>11.716764</td>\n",
       "    </tr>\n",
       "    <tr>\n",
       "      <th>min</th>\n",
       "      <td>-40.909091</td>\n",
       "      <td>-25.000000</td>\n",
       "      <td>-22.580645</td>\n",
       "      <td>-33.333333</td>\n",
       "    </tr>\n",
       "    <tr>\n",
       "      <th>25%</th>\n",
       "      <td>-4.446640</td>\n",
       "      <td>0.000000</td>\n",
       "      <td>0.000000</td>\n",
       "      <td>0.000000</td>\n",
       "    </tr>\n",
       "    <tr>\n",
       "      <th>50%</th>\n",
       "      <td>0.000000</td>\n",
       "      <td>8.333333</td>\n",
       "      <td>2.777778</td>\n",
       "      <td>0.000000</td>\n",
       "    </tr>\n",
       "    <tr>\n",
       "      <th>75%</th>\n",
       "      <td>9.090909</td>\n",
       "      <td>14.583333</td>\n",
       "      <td>8.514493</td>\n",
       "      <td>8.893281</td>\n",
       "    </tr>\n",
       "    <tr>\n",
       "      <th>max</th>\n",
       "      <td>42.857143</td>\n",
       "      <td>50.000000</td>\n",
       "      <td>80.000000</td>\n",
       "      <td>38.461538</td>\n",
       "    </tr>\n",
       "  </tbody>\n",
       "</table>\n",
       "</div>"
      ],
      "text/plain": [
       "       change in AR  change in ER  change in PT  change in SOA\n",
       "count     99.000000     99.000000     99.000000      99.000000\n",
       "mean       1.882945      7.478876      4.570778       3.737547\n",
       "std       11.688570     15.039453     12.441412      11.716764\n",
       "min      -40.909091    -25.000000    -22.580645     -33.333333\n",
       "25%       -4.446640      0.000000      0.000000       0.000000\n",
       "50%        0.000000      8.333333      2.777778       0.000000\n",
       "75%        9.090909     14.583333      8.514493       8.893281\n",
       "max       42.857143     50.000000     80.000000      38.461538"
      ]
     },
     "execution_count": 9,
     "metadata": {},
     "output_type": "execute_result"
    }
   ],
   "source": [
    "ARlist = [\n",
    "    \"when. i see someone receive a gift that makes them happy, i feel happy myself.\",\n",
    "    \"when i see someone being publicly embarrassed i cringe a little.\",\n",
    "    \"when i see someone accidently hit his or her thumb with a hammer, i feel a flash of pain myself.\",\n",
    "    \"when i am with someone who gets sad news, i feel sad for a moment too.\",\n",
    "    \"hearing laughter makes me smile.\"\n",
    "]\n",
    "\n",
    "ERlist = [ \n",
    "    \"emotional stability describes me well.\",\n",
    "    \"when i get angry, i need a lot of time to get over it.\",\n",
    "    \"friends view me as a moody person.\",\n",
    "    \"when i am upset or unhappy, i get over it quickly.\"\n",
    "]\n",
    "\n",
    "PTlist = [\n",
    "    \"i am good at understanding other peopleâ€™s emotions.\",\n",
    "    \"i can consider my point of view and another personâ€™s point of view at the same time.\",\n",
    "    \"i can imagine what the character is feeling in a good movie.\",\n",
    "    \"when i see a person experiencing a strong emotion i can accurately assess what that person is feeling.\",\n",
    "    \"i can imagine what itâ€™s like to be in someone elseâ€™s shoes.\",\n",
    "    \"i consider other peopleâ€™s points of view in discussions.\",\n",
    "    \"i can agree to disagree with other people.\",\n",
    "    \"i am aware of other people's emotions.\"\n",
    "]\n",
    "\n",
    "SOAlist = [\n",
    "    \"i can tell the difference between someone elseâ€™s feelings and my own.\",\n",
    "    \"when i see a person experiencing a strong emotion, i can describe what the person is feeling to someone else.\",\n",
    "    \"i can tell the difference between my friendâ€™s feelings and my own.\",\n",
    "    \"i can explain to others how i am feeling.\",\n",
    "    \"i am aware of what other people think of me.\"\n",
    "]\n",
    "\n",
    "# some of the questions are not included in the questionnaire but somewhat similar to \n",
    "# those given in the questionnaire of the journal article so \n",
    "# i classified them accordingly, should i only keep questions that are featured in\n",
    "# the questionnaire?\n",
    "\n",
    "data2 = data[[\"te\", \"#\"]]\n",
    "addcolumns(data, data2, ARlist, \"AR\")\n",
    "addcolumns(data, data2, ERlist, \"ER\")\n",
    "addcolumns(data, data2, PTlist, \"PT\")\n",
    "addcolumns(data, data2, SOAlist, \"SOA\")\n",
    "data2_selected = data2[[\"change in AR\", \"change in ER\", \"change in PT\", \"change in SOA\"]]\n",
    "data2_selected.describe()"
   ]
  },
  {
   "cell_type": "code",
   "execution_count": 10,
   "metadata": {},
   "outputs": [
    {
     "data": {
      "text/plain": [
       "<Axes: >"
      ]
     },
     "execution_count": 10,
     "metadata": {},
     "output_type": "execute_result"
    },
    {
     "data": {
      "image/png": "[encoded data removed]",
      "text/plain": [
       "<Figure size 1000x800 with 1 Axes>"
      ]
     },
     "metadata": {},
     "output_type": "display_data"
    }
   ],
   "source": [
    "data2_selected.plot.box(figsize=(10, 8), rot=30, grid=True)"
   ]
  },
  {
   "cell_type": "markdown",
   "metadata": {},
   "source": [
    "From the above boxplot and summary of statistics, we can see that, overall, there is an  increase in all categories of empathy, as seen by the medians of all 4 categories being greater than 0. The greatest change would be that for ER as the median of the change in ER is largest at 8.33 percentage points, while AR and SOA changed the least as the median of change of AR is 0 percentage points. \n",
    "\n",
    "The change in ER varied the most while the change in AR varied the least, as visualised by the spread of IQR data in the boxplot as well as the standard deviations shown above.\n",
    "\n",
    "Now, we will be performing t-tests to see whether these changes in the different categories of empathy are significant."
   ]
  },
  {
   "cell_type": "code",
   "execution_count": 11,
   "metadata": {},
   "outputs": [
    {
     "data": {
      "text/html": [
       "<div>\n",
       "<style scoped>\n",
       "    .dataframe tbody tr th:only-of-type {\n",
       "        vertical-align: middle;\n",
       "    }\n",
       "\n",
       "    .dataframe tbody tr th {\n",
       "        vertical-align: top;\n",
       "    }\n",
       "\n",
       "    .dataframe thead th {\n",
       "        text-align: right;\n",
       "    }\n",
       "</style>\n",
       "<table border=\"1\" class=\"dataframe\">\n",
       "  <thead>\n",
       "    <tr style=\"text-align: right;\">\n",
       "      <th></th>\n",
       "      <th>AR_pre</th>\n",
       "      <th>AR_post</th>\n",
       "      <th>ER_pre</th>\n",
       "      <th>ER_post</th>\n",
       "      <th>PT_pre</th>\n",
       "      <th>PT_post</th>\n",
       "      <th>SOA_pre</th>\n",
       "      <th>SOA_post</th>\n",
       "    </tr>\n",
       "  </thead>\n",
       "  <tbody>\n",
       "    <tr>\n",
       "      <th>count</th>\n",
       "      <td>99.000000</td>\n",
       "      <td>99.000000</td>\n",
       "      <td>99.000000</td>\n",
       "      <td>99.000000</td>\n",
       "      <td>99.000000</td>\n",
       "      <td>99.000000</td>\n",
       "      <td>99.000000</td>\n",
       "      <td>99.000000</td>\n",
       "    </tr>\n",
       "    <tr>\n",
       "      <th>mean</th>\n",
       "      <td>79.434343</td>\n",
       "      <td>80.565657</td>\n",
       "      <td>58.787879</td>\n",
       "      <td>62.424242</td>\n",
       "      <td>76.994949</td>\n",
       "      <td>79.949495</td>\n",
       "      <td>75.070707</td>\n",
       "      <td>77.373737</td>\n",
       "    </tr>\n",
       "    <tr>\n",
       "      <th>std</th>\n",
       "      <td>10.552262</td>\n",
       "      <td>11.752691</td>\n",
       "      <td>8.662932</td>\n",
       "      <td>8.124153</td>\n",
       "      <td>11.655010</td>\n",
       "      <td>12.142751</td>\n",
       "      <td>12.775337</td>\n",
       "      <td>13.219177</td>\n",
       "    </tr>\n",
       "    <tr>\n",
       "      <th>min</th>\n",
       "      <td>52.000000</td>\n",
       "      <td>52.000000</td>\n",
       "      <td>40.000000</td>\n",
       "      <td>45.000000</td>\n",
       "      <td>37.500000</td>\n",
       "      <td>52.500000</td>\n",
       "      <td>48.000000</td>\n",
       "      <td>52.000000</td>\n",
       "    </tr>\n",
       "    <tr>\n",
       "      <th>25%</th>\n",
       "      <td>72.000000</td>\n",
       "      <td>72.000000</td>\n",
       "      <td>55.000000</td>\n",
       "      <td>60.000000</td>\n",
       "      <td>70.000000</td>\n",
       "      <td>72.500000</td>\n",
       "      <td>64.000000</td>\n",
       "      <td>68.000000</td>\n",
       "    </tr>\n",
       "    <tr>\n",
       "      <th>50%</th>\n",
       "      <td>80.000000</td>\n",
       "      <td>80.000000</td>\n",
       "      <td>60.000000</td>\n",
       "      <td>60.000000</td>\n",
       "      <td>77.500000</td>\n",
       "      <td>80.000000</td>\n",
       "      <td>76.000000</td>\n",
       "      <td>76.000000</td>\n",
       "    </tr>\n",
       "    <tr>\n",
       "      <th>75%</th>\n",
       "      <td>88.000000</td>\n",
       "      <td>92.000000</td>\n",
       "      <td>65.000000</td>\n",
       "      <td>65.000000</td>\n",
       "      <td>85.000000</td>\n",
       "      <td>90.000000</td>\n",
       "      <td>84.000000</td>\n",
       "      <td>88.000000</td>\n",
       "    </tr>\n",
       "    <tr>\n",
       "      <th>max</th>\n",
       "      <td>100.000000</td>\n",
       "      <td>100.000000</td>\n",
       "      <td>80.000000</td>\n",
       "      <td>80.000000</td>\n",
       "      <td>97.500000</td>\n",
       "      <td>100.000000</td>\n",
       "      <td>100.000000</td>\n",
       "      <td>100.000000</td>\n",
       "    </tr>\n",
       "  </tbody>\n",
       "</table>\n",
       "</div>"
      ],
      "text/plain": [
       "           AR_pre     AR_post     ER_pre    ER_post     PT_pre     PT_post  \\\n",
       "count   99.000000   99.000000  99.000000  99.000000  99.000000   99.000000   \n",
       "mean    79.434343   80.565657  58.787879  62.424242  76.994949   79.949495   \n",
       "std     10.552262   11.752691   8.662932   8.124153  11.655010   12.142751   \n",
       "min     52.000000   52.000000  40.000000  45.000000  37.500000   52.500000   \n",
       "25%     72.000000   72.000000  55.000000  60.000000  70.000000   72.500000   \n",
       "50%     80.000000   80.000000  60.000000  60.000000  77.500000   80.000000   \n",
       "75%     88.000000   92.000000  65.000000  65.000000  85.000000   90.000000   \n",
       "max    100.000000  100.000000  80.000000  80.000000  97.500000  100.000000   \n",
       "\n",
       "          SOA_pre    SOA_post  \n",
       "count   99.000000   99.000000  \n",
       "mean    75.070707   77.373737  \n",
       "std     12.775337   13.219177  \n",
       "min     48.000000   52.000000  \n",
       "25%     64.000000   68.000000  \n",
       "50%     76.000000   76.000000  \n",
       "75%     84.000000   88.000000  \n",
       "max    100.000000  100.000000  "
      ]
     },
     "execution_count": 11,
     "metadata": {},
     "output_type": "execute_result"
    }
   ],
   "source": [
    "data3 = data2[[\"AR_pre\", \"AR_post\", \"ER_pre\", \"ER_post\", \"PT_pre\", \"PT_post\", \"SOA_pre\", \"SOA_post\"]]\n",
    "data3.describe()"
   ]
  },
  {
   "cell_type": "code",
   "execution_count": 22,
   "metadata": {},
   "outputs": [],
   "source": [
    "def runtest2(x):\n",
    "    group1 = data3[x+\"_pre\"]\n",
    "    group2 = data3[x+\"_post\"]\n",
    "    return sp.ttest_ind(group1, group2, equal_var=False)"
   ]
  },
  {
   "cell_type": "code",
   "execution_count": null,
   "metadata": {},
   "outputs": [
    {
     "data": {
      "text/plain": [
       "TtestResult(statistic=-0.7126660214204183, pvalue=0.47690975182577366, df=193.7679700903481)"
      ]
     },
     "execution_count": 112,
     "metadata": {},
     "output_type": "execute_result"
    }
   ],
   "source": [
    "runtest2(\"AR\")"
   ]
  },
  {
   "cell_type": "code",
   "execution_count": null,
   "metadata": {},
   "outputs": [
    {
     "data": {
      "text/plain": [
       "TtestResult(statistic=-3.0464992227104952, pvalue=0.0026353570519972594, df=195.19737928381537)"
      ]
     },
     "execution_count": 114,
     "metadata": {},
     "output_type": "execute_result"
    }
   ],
   "source": [
    "runtest2(\"ER\")"
   ]
  },
  {
   "cell_type": "code",
   "execution_count": null,
   "metadata": {},
   "outputs": [
    {
     "data": {
      "text/plain": [
       "TtestResult(statistic=-1.746610133515532, pvalue=0.08227414479981104, df=195.67150478048097)"
      ]
     },
     "execution_count": 115,
     "metadata": {},
     "output_type": "execute_result"
    }
   ],
   "source": [
    "runtest2(\"PT\")"
   ]
  },
  {
   "cell_type": "code",
   "execution_count": null,
   "metadata": {},
   "outputs": [
    {
     "data": {
      "text/plain": [
       "TtestResult(statistic=-1.246485534115125, pvalue=0.2140755893218795, df=195.7718359526213)"
      ]
     },
     "execution_count": 116,
     "metadata": {},
     "output_type": "execute_result"
    }
   ],
   "source": [
    "runtest2(\"SOA\")"
   ]
  },
  {
   "cell_type": "markdown",
   "metadata": {},
   "source": [
    "From the above t-tests for significance in the change in responses in each empathy category after playing Beantastic, there was an overall significant improvement in emotional regulation (ER) at 5% significance level. However, none of the other categories in relation to empathy were statistically significant at 5% significance level, though perspective taking came closer to being statistically significant as its p-value was still relatively low at about 0.0823. \n",
    "\n",
    "This implies that playing Beantastic would most likely help with regards to managing strong emotions. Relating to section 1.1, the analyses thus far show that playing the game significantly improves one's own mood as well as the ability to regulate their own emotions. Perhaps more analyses could be performed to investigate whether these two are correlated. \n",
    "\n",
    "However, other aspects in terms of how intensely one feels others' emotions or one's abilitiy to differentiate and express others' vs their own emotions may not change significantly after playing the game."
   ]
  },
  {
   "cell_type": "markdown",
   "metadata": {},
   "source": [
    "#### Question 1.3: Is there a change in the resilience of participants after playing Beantastic?\n",
    "\n",
    "The scale we will be using is based on the Connor-Davidson Resilience Scale (CD-RISC), a test that measures resilience or how well one is equipped to bounce back after stressful events, tragedy, or trauma. We will be using CD-RISC-10, the 10-item scale is comprised of ten of the original 25 items from the CD-RISC-10 scale, these ten items include:\n",
    "- I am able to adapt when changes occur.\n",
    "- I can deal with whatever comes my way.\n",
    "- I try to see the humorous side of things when I am faced with problems.\n",
    "- Having to cope with stress can make me stronger.\n",
    "- I tend to bounce back after illness, injury or other hardships.\n",
    "- I believe I can achieve my goals, even if there are obstacles.\n",
    "- Under pressure, I stay focused and think clearly.\n",
    "- I am not easily discouraged by failure.\n",
    "- I think of myself as a strong person when dealing with life’s challenges and difficulties.\n",
    "- I am able to handle unpleasant or painful feelings like sadness, fear, and anger. \n",
    "\n",
    "After matching the questions in the survey to each item, we have excluded the items \"I try to see the humorous side of things when I am faced with problems.\" and \"Under pressure, I stay focused and think clearly.\"\n",
    "\n",
    "First, we will visualise the data to see the extent of changes in the different categories of resilience after playing Beantastic."
   ]
  },
  {
   "cell_type": "code",
   "execution_count": 18,
   "metadata": {},
   "outputs": [],
   "source": [
    "def addcolumns1(olddata, newdata, question_list, category, reverse=False):\n",
    "    newdata[category + \"_pre\"] = 0\n",
    "    newdata[category + \"_post\"] = 0\n",
    "    \n",
    "    for question in question_list:\n",
    "        if reverse:\n",
    "            newdata[question + \"_pre\"] = 6 - olddata[question + \"_pre\"]\n",
    "            newdata[question + \"_post\"] = 6 - olddata[question + \"_post\"]\n",
    "        else:\n",
    "            newdata[question + \"_pre\"] = olddata[question + \"_pre\"]\n",
    "            newdata[question + \"_post\"] = olddata[question + \"_post\"]\n",
    "        \n",
    "        newdata[category + \"_pre\"] += newdata[question + \"_pre\"]\n",
    "        newdata[category + \"_post\"] += newdata[question + \"_post\"]\n",
    "    \n",
    "    # Calculate percentages\n",
    "    newdata[category + \"_pre\"] = (newdata[category + \"_pre\"] / (len(question_list) * 5)) * 100\n",
    "    newdata[category + \"_post\"] = (newdata[category + \"_post\"] / (len(question_list) * 5)) * 100\n",
    "    \n",
    "    # Calculate percentage change\n",
    "    pre = newdata[category + \"_pre\"]\n",
    "    post = newdata[category + \"_post\"]\n",
    "    newdata[\"change in \" + category] = (post - pre) / pre * 100"
   ]
  },
  {
   "cell_type": "code",
   "execution_count": 20,
   "metadata": {},
   "outputs": [
    {
     "name": "stdout",
     "output_type": "stream",
     "text": [
      "Index(['te', '#'], dtype='object')\n"
     ]
    },
    {
     "data": {
      "text/html": [
       "<div>\n",
       "<style scoped>\n",
       "    .dataframe tbody tr th:only-of-type {\n",
       "        vertical-align: middle;\n",
       "    }\n",
       "\n",
       "    .dataframe tbody tr th {\n",
       "        vertical-align: top;\n",
       "    }\n",
       "\n",
       "    .dataframe thead th {\n",
       "        text-align: right;\n",
       "    }\n",
       "</style>\n",
       "<table border=\"1\" class=\"dataframe\">\n",
       "  <thead>\n",
       "    <tr style=\"text-align: right;\">\n",
       "      <th></th>\n",
       "      <th>change in I believe I can achieve my goals, even if there are obstacles.</th>\n",
       "      <th>change in I am able to handle unpleasant or painful feelings like sadness, fear, and anger.</th>\n",
       "      <th>change in I tend to bounce back after illness, injury or other hardships.</th>\n",
       "      <th>change in Having to cope with stress can make me stronger.</th>\n",
       "      <th>change in I can deal with whatever comes my way.</th>\n",
       "      <th>change in I think of myself as a strong person when dealing with life’s challenges and difficulties.</th>\n",
       "      <th>change in I am able to adapt when changes occur.</th>\n",
       "      <th>change in I am not easily discouraged by failure.</th>\n",
       "    </tr>\n",
       "  </thead>\n",
       "  <tbody>\n",
       "    <tr>\n",
       "      <th>count</th>\n",
       "      <td>99.000000</td>\n",
       "      <td>99.000000</td>\n",
       "      <td>99.000000</td>\n",
       "      <td>99.000000</td>\n",
       "      <td>99.000000</td>\n",
       "      <td>99.000000</td>\n",
       "      <td>99.000000</td>\n",
       "      <td>99.000000</td>\n",
       "    </tr>\n",
       "    <tr>\n",
       "      <th>mean</th>\n",
       "      <td>7.845118</td>\n",
       "      <td>14.696970</td>\n",
       "      <td>7.373737</td>\n",
       "      <td>8.047138</td>\n",
       "      <td>14.629630</td>\n",
       "      <td>1.043771</td>\n",
       "      <td>15.892256</td>\n",
       "      <td>4.612795</td>\n",
       "    </tr>\n",
       "    <tr>\n",
       "      <th>std</th>\n",
       "      <td>22.113719</td>\n",
       "      <td>32.331338</td>\n",
       "      <td>23.907051</td>\n",
       "      <td>62.095877</td>\n",
       "      <td>44.880514</td>\n",
       "      <td>42.360606</td>\n",
       "      <td>44.854459</td>\n",
       "      <td>41.109077</td>\n",
       "    </tr>\n",
       "    <tr>\n",
       "      <th>min</th>\n",
       "      <td>-40.000000</td>\n",
       "      <td>-40.000000</td>\n",
       "      <td>-40.000000</td>\n",
       "      <td>-75.000000</td>\n",
       "      <td>-66.666667</td>\n",
       "      <td>-75.000000</td>\n",
       "      <td>-50.000000</td>\n",
       "      <td>-75.000000</td>\n",
       "    </tr>\n",
       "    <tr>\n",
       "      <th>25%</th>\n",
       "      <td>0.000000</td>\n",
       "      <td>0.000000</td>\n",
       "      <td>0.000000</td>\n",
       "      <td>-29.166667</td>\n",
       "      <td>0.000000</td>\n",
       "      <td>-20.000000</td>\n",
       "      <td>0.000000</td>\n",
       "      <td>-22.500000</td>\n",
       "    </tr>\n",
       "    <tr>\n",
       "      <th>50%</th>\n",
       "      <td>0.000000</td>\n",
       "      <td>0.000000</td>\n",
       "      <td>0.000000</td>\n",
       "      <td>0.000000</td>\n",
       "      <td>0.000000</td>\n",
       "      <td>0.000000</td>\n",
       "      <td>0.000000</td>\n",
       "      <td>0.000000</td>\n",
       "    </tr>\n",
       "    <tr>\n",
       "      <th>75%</th>\n",
       "      <td>25.000000</td>\n",
       "      <td>33.333333</td>\n",
       "      <td>25.000000</td>\n",
       "      <td>33.333333</td>\n",
       "      <td>33.333333</td>\n",
       "      <td>0.000000</td>\n",
       "      <td>33.333333</td>\n",
       "      <td>29.166667</td>\n",
       "    </tr>\n",
       "    <tr>\n",
       "      <th>max</th>\n",
       "      <td>100.000000</td>\n",
       "      <td>150.000000</td>\n",
       "      <td>100.000000</td>\n",
       "      <td>400.000000</td>\n",
       "      <td>300.000000</td>\n",
       "      <td>200.000000</td>\n",
       "      <td>300.000000</td>\n",
       "      <td>150.000000</td>\n",
       "    </tr>\n",
       "  </tbody>\n",
       "</table>\n",
       "</div>"
      ],
      "text/plain": [
       "       change in I believe I can achieve my goals, even if there are obstacles.  \\\n",
       "count                                          99.000000                          \n",
       "mean                                            7.845118                          \n",
       "std                                            22.113719                          \n",
       "min                                           -40.000000                          \n",
       "25%                                             0.000000                          \n",
       "50%                                             0.000000                          \n",
       "75%                                            25.000000                          \n",
       "max                                           100.000000                          \n",
       "\n",
       "       change in I am able to handle unpleasant or painful feelings like sadness, fear, and anger.  \\\n",
       "count                                          99.000000                                             \n",
       "mean                                           14.696970                                             \n",
       "std                                            32.331338                                             \n",
       "min                                           -40.000000                                             \n",
       "25%                                             0.000000                                             \n",
       "50%                                             0.000000                                             \n",
       "75%                                            33.333333                                             \n",
       "max                                           150.000000                                             \n",
       "\n",
       "       change in I tend to bounce back after illness, injury or other hardships.  \\\n",
       "count                                          99.000000                           \n",
       "mean                                            7.373737                           \n",
       "std                                            23.907051                           \n",
       "min                                           -40.000000                           \n",
       "25%                                             0.000000                           \n",
       "50%                                             0.000000                           \n",
       "75%                                            25.000000                           \n",
       "max                                           100.000000                           \n",
       "\n",
       "       change in Having to cope with stress can make me stronger.  \\\n",
       "count                                          99.000000            \n",
       "mean                                            8.047138            \n",
       "std                                            62.095877            \n",
       "min                                           -75.000000            \n",
       "25%                                           -29.166667            \n",
       "50%                                             0.000000            \n",
       "75%                                            33.333333            \n",
       "max                                           400.000000            \n",
       "\n",
       "       change in I can deal with whatever comes my way.  \\\n",
       "count                                         99.000000   \n",
       "mean                                          14.629630   \n",
       "std                                           44.880514   \n",
       "min                                          -66.666667   \n",
       "25%                                            0.000000   \n",
       "50%                                            0.000000   \n",
       "75%                                           33.333333   \n",
       "max                                          300.000000   \n",
       "\n",
       "       change in I think of myself as a strong person when dealing with life’s challenges and difficulties.  \\\n",
       "count                                          99.000000                                                      \n",
       "mean                                            1.043771                                                      \n",
       "std                                            42.360606                                                      \n",
       "min                                           -75.000000                                                      \n",
       "25%                                           -20.000000                                                      \n",
       "50%                                             0.000000                                                      \n",
       "75%                                             0.000000                                                      \n",
       "max                                           200.000000                                                      \n",
       "\n",
       "       change in I am able to adapt when changes occur.  \\\n",
       "count                                         99.000000   \n",
       "mean                                          15.892256   \n",
       "std                                           44.854459   \n",
       "min                                          -50.000000   \n",
       "25%                                            0.000000   \n",
       "50%                                            0.000000   \n",
       "75%                                           33.333333   \n",
       "max                                          300.000000   \n",
       "\n",
       "       change in I am not easily discouraged by failure.  \n",
       "count                                          99.000000  \n",
       "mean                                            4.612795  \n",
       "std                                            41.109077  \n",
       "min                                           -75.000000  \n",
       "25%                                           -22.500000  \n",
       "50%                                             0.000000  \n",
       "75%                                            29.166667  \n",
       "max                                           150.000000  "
      ]
     },
     "execution_count": 20,
     "metadata": {},
     "output_type": "execute_result"
    }
   ],
   "source": [
    "I_believe_I_can_achieve_my_goals_even_if_there_are_obstacles = [\n",
    "    \"i am able to persevere in the face of challenges.\"\n",
    "]\n",
    "\n",
    "I_am_able_to_handle_unpleasant_or_painful_feelings_like_sadness_fear_and_anger = [ \n",
    "    \"i know how i can manage negative thoughts and emotions.\"\n",
    "]\n",
    "\n",
    "I_tend_to_bounce_back_after_illness_injury_or_other_hardships = [\n",
    "    \"i tend to bounce back quickly after hard times..\"\n",
    "]\n",
    "\n",
    "Having_to_cope_with_stress_can_make_me_stronger = [\n",
    "    \"i have a hard time making it through stressful events.\"\n",
    "]\n",
    "\n",
    "I_can_deal_with_whatever_comes_my_way = [\n",
    "    \"it does not take me long to recover from a stressful event.\"\n",
    "]\n",
    "\n",
    "I_think_of_myself_as_a_strong_person_when_dealing_with_lifes_challenges_and_difficulties = [\n",
    "    \"it is hard for me to snap back when something bad happens\"\n",
    "]\n",
    "\n",
    "I_am_able_to_adapt_when_changes_occur = [\n",
    "    \"i usually come through difficult times with little trouble.\"\n",
    "]\n",
    "\n",
    "I_am_not_easily_discouraged_by_failure = [\n",
    "    \"i tend to take a long time to get over setbacks in my life..\"\n",
    "]\n",
    "\n",
    "data4 = data[[\"te\", \"#\"]]\n",
    "print(data4.columns)\n",
    "addcolumns(data, data4, I_believe_I_can_achieve_my_goals_even_if_there_are_obstacles, \"I believe I can achieve my goals, even if there are obstacles.\")\n",
    "addcolumns(data, data4, I_am_able_to_handle_unpleasant_or_painful_feelings_like_sadness_fear_and_anger, \"I am able to handle unpleasant or painful feelings like sadness, fear, and anger.\")\n",
    "addcolumns(data, data4, I_tend_to_bounce_back_after_illness_injury_or_other_hardships, \"I tend to bounce back after illness, injury or other hardships.\")\n",
    "addcolumns1(data, data4, Having_to_cope_with_stress_can_make_me_stronger, \"Having to cope with stress can make me stronger.\", reverse = True)\n",
    "addcolumns(data, data4, I_can_deal_with_whatever_comes_my_way, \"I can deal with whatever comes my way.\")\n",
    "addcolumns1(data, data4, I_think_of_myself_as_a_strong_person_when_dealing_with_lifes_challenges_and_difficulties, \"I think of myself as a strong person when dealing with life’s challenges and difficulties.\", reverse = True)\n",
    "addcolumns(data, data4, I_am_able_to_adapt_when_changes_occur, \"I am able to adapt when changes occur.\")\n",
    "addcolumns1(data, data4, I_am_not_easily_discouraged_by_failure, \"I am not easily discouraged by failure.\", reverse = True)\n",
    "data4_selected = data4[[\"change in I believe I can achieve my goals, even if there are obstacles.\", \n",
    "\"change in I am able to handle unpleasant or painful feelings like sadness, fear, and anger.\", \n",
    "\"change in I tend to bounce back after illness, injury or other hardships.\", \n",
    "\"change in Having to cope with stress can make me stronger.\",\n",
    "\"change in I can deal with whatever comes my way.\",\n",
    "\"change in I think of myself as a strong person when dealing with life’s challenges and difficulties.\",\n",
    "\"change in I am able to adapt when changes occur.\",\n",
    "\"change in I am not easily discouraged by failure.\"]]\n",
    "data4_selected.describe()"
   ]
  },
  {
   "cell_type": "code",
   "execution_count": 16,
   "metadata": {},
   "outputs": [
    {
     "data": {
      "text/plain": [
       "<Axes: >"
      ]
     },
     "execution_count": 16,
     "metadata": {},
     "output_type": "execute_result"
    },
    {
     "data": {
      "image/png": "[encoded data removed]",
      "text/plain": [
       "<Figure size 1000x800 with 1 Axes>"
      ]
     },
     "metadata": {},
     "output_type": "display_data"
    }
   ],
   "source": [
    "data4_selected.plot.box(figsize=(10, 8), rot=30, grid=True)"
   ]
  },
  {
   "cell_type": "markdown",
   "metadata": {},
   "source": [
    "From the above boxplot and summary of statistics, we can see that, overall, there is no change in any of the items of resilience as the median of change for every item is 0 percentage points.\n",
    "\n",
    "The change in the item \"Having to cope with stress can make me stronger.\" varied the most while the change in the item \"I believe I can achieve my goals, even if there are obstacles.\" varied the least, as visualised by the spread of IQR data in the boxplots as well as the standard deviations shown above.\n",
    "\n",
    "Now, we will be performing t-tests to see whether these changes in the different items of resilience are significant."
   ]
  },
  {
   "cell_type": "code",
   "execution_count": 21,
   "metadata": {},
   "outputs": [
    {
     "data": {
      "text/html": [
       "<div>\n",
       "<style scoped>\n",
       "    .dataframe tbody tr th:only-of-type {\n",
       "        vertical-align: middle;\n",
       "    }\n",
       "\n",
       "    .dataframe tbody tr th {\n",
       "        vertical-align: top;\n",
       "    }\n",
       "\n",
       "    .dataframe thead th {\n",
       "        text-align: right;\n",
       "    }\n",
       "</style>\n",
       "<table border=\"1\" class=\"dataframe\">\n",
       "  <thead>\n",
       "    <tr style=\"text-align: right;\">\n",
       "      <th></th>\n",
       "      <th>I believe I can achieve my goals, even if there are obstacles._pre</th>\n",
       "      <th>I believe I can achieve my goals, even if there are obstacles._post</th>\n",
       "      <th>I am able to handle unpleasant or painful feelings like sadness, fear, and anger._pre</th>\n",
       "      <th>I am able to handle unpleasant or painful feelings like sadness, fear, and anger._post</th>\n",
       "      <th>I tend to bounce back after illness, injury or other hardships._pre</th>\n",
       "      <th>I tend to bounce back after illness, injury or other hardships._post</th>\n",
       "      <th>Having to cope with stress can make me stronger._pre</th>\n",
       "      <th>Having to cope with stress can make me stronger._post</th>\n",
       "      <th>I can deal with whatever comes my way._pre</th>\n",
       "      <th>I can deal with whatever comes my way._post</th>\n",
       "      <th>I think of myself as a strong person when dealing with life’s challenges and difficulties._pre</th>\n",
       "      <th>I think of myself as a strong person when dealing with life’s challenges and difficulties._post</th>\n",
       "      <th>I am able to adapt when changes occur._pre</th>\n",
       "      <th>I am able to adapt when changes occur._post</th>\n",
       "      <th>I am not easily discouraged by failure._pre</th>\n",
       "      <th>I am not easily discouraged by failure._post</th>\n",
       "    </tr>\n",
       "  </thead>\n",
       "  <tbody>\n",
       "    <tr>\n",
       "      <th>count</th>\n",
       "      <td>99.000000</td>\n",
       "      <td>99.000000</td>\n",
       "      <td>99.000000</td>\n",
       "      <td>99.000000</td>\n",
       "      <td>99.000000</td>\n",
       "      <td>99.000000</td>\n",
       "      <td>99.000000</td>\n",
       "      <td>99.000000</td>\n",
       "      <td>99.000000</td>\n",
       "      <td>99.000000</td>\n",
       "      <td>99.000000</td>\n",
       "      <td>99.000000</td>\n",
       "      <td>99.000000</td>\n",
       "      <td>99.000000</td>\n",
       "      <td>99.000000</td>\n",
       "      <td>99.000000</td>\n",
       "    </tr>\n",
       "    <tr>\n",
       "      <th>mean</th>\n",
       "      <td>76.363636</td>\n",
       "      <td>80.000000</td>\n",
       "      <td>71.515152</td>\n",
       "      <td>78.383838</td>\n",
       "      <td>71.111111</td>\n",
       "      <td>74.141414</td>\n",
       "      <td>61.212121</td>\n",
       "      <td>59.191919</td>\n",
       "      <td>67.474747</td>\n",
       "      <td>71.717172</td>\n",
       "      <td>66.868687</td>\n",
       "      <td>62.828283</td>\n",
       "      <td>63.434343</td>\n",
       "      <td>69.090909</td>\n",
       "      <td>63.030303</td>\n",
       "      <td>61.616162</td>\n",
       "    </tr>\n",
       "    <tr>\n",
       "      <th>std</th>\n",
       "      <td>15.743774</td>\n",
       "      <td>12.777531</td>\n",
       "      <td>16.435628</td>\n",
       "      <td>14.193062</td>\n",
       "      <td>16.714218</td>\n",
       "      <td>15.714942</td>\n",
       "      <td>19.549661</td>\n",
       "      <td>20.979911</td>\n",
       "      <td>19.290657</td>\n",
       "      <td>16.662337</td>\n",
       "      <td>20.436385</td>\n",
       "      <td>20.205092</td>\n",
       "      <td>17.388808</td>\n",
       "      <td>17.207670</td>\n",
       "      <td>18.375591</td>\n",
       "      <td>19.520114</td>\n",
       "    </tr>\n",
       "    <tr>\n",
       "      <th>min</th>\n",
       "      <td>40.000000</td>\n",
       "      <td>60.000000</td>\n",
       "      <td>40.000000</td>\n",
       "      <td>60.000000</td>\n",
       "      <td>40.000000</td>\n",
       "      <td>40.000000</td>\n",
       "      <td>20.000000</td>\n",
       "      <td>20.000000</td>\n",
       "      <td>20.000000</td>\n",
       "      <td>20.000000</td>\n",
       "      <td>20.000000</td>\n",
       "      <td>20.000000</td>\n",
       "      <td>20.000000</td>\n",
       "      <td>40.000000</td>\n",
       "      <td>20.000000</td>\n",
       "      <td>20.000000</td>\n",
       "    </tr>\n",
       "    <tr>\n",
       "      <th>25%</th>\n",
       "      <td>60.000000</td>\n",
       "      <td>80.000000</td>\n",
       "      <td>60.000000</td>\n",
       "      <td>60.000000</td>\n",
       "      <td>60.000000</td>\n",
       "      <td>60.000000</td>\n",
       "      <td>60.000000</td>\n",
       "      <td>40.000000</td>\n",
       "      <td>60.000000</td>\n",
       "      <td>60.000000</td>\n",
       "      <td>60.000000</td>\n",
       "      <td>60.000000</td>\n",
       "      <td>60.000000</td>\n",
       "      <td>60.000000</td>\n",
       "      <td>60.000000</td>\n",
       "      <td>40.000000</td>\n",
       "    </tr>\n",
       "    <tr>\n",
       "      <th>50%</th>\n",
       "      <td>80.000000</td>\n",
       "      <td>80.000000</td>\n",
       "      <td>80.000000</td>\n",
       "      <td>80.000000</td>\n",
       "      <td>80.000000</td>\n",
       "      <td>80.000000</td>\n",
       "      <td>60.000000</td>\n",
       "      <td>60.000000</td>\n",
       "      <td>60.000000</td>\n",
       "      <td>80.000000</td>\n",
       "      <td>60.000000</td>\n",
       "      <td>60.000000</td>\n",
       "      <td>60.000000</td>\n",
       "      <td>60.000000</td>\n",
       "      <td>60.000000</td>\n",
       "      <td>60.000000</td>\n",
       "    </tr>\n",
       "    <tr>\n",
       "      <th>75%</th>\n",
       "      <td>80.000000</td>\n",
       "      <td>80.000000</td>\n",
       "      <td>80.000000</td>\n",
       "      <td>80.000000</td>\n",
       "      <td>80.000000</td>\n",
       "      <td>80.000000</td>\n",
       "      <td>80.000000</td>\n",
       "      <td>80.000000</td>\n",
       "      <td>80.000000</td>\n",
       "      <td>80.000000</td>\n",
       "      <td>80.000000</td>\n",
       "      <td>80.000000</td>\n",
       "      <td>80.000000</td>\n",
       "      <td>80.000000</td>\n",
       "      <td>80.000000</td>\n",
       "      <td>80.000000</td>\n",
       "    </tr>\n",
       "    <tr>\n",
       "      <th>max</th>\n",
       "      <td>100.000000</td>\n",
       "      <td>100.000000</td>\n",
       "      <td>100.000000</td>\n",
       "      <td>100.000000</td>\n",
       "      <td>100.000000</td>\n",
       "      <td>100.000000</td>\n",
       "      <td>100.000000</td>\n",
       "      <td>100.000000</td>\n",
       "      <td>100.000000</td>\n",
       "      <td>100.000000</td>\n",
       "      <td>100.000000</td>\n",
       "      <td>100.000000</td>\n",
       "      <td>100.000000</td>\n",
       "      <td>100.000000</td>\n",
       "      <td>100.000000</td>\n",
       "      <td>100.000000</td>\n",
       "    </tr>\n",
       "  </tbody>\n",
       "</table>\n",
       "</div>"
      ],
      "text/plain": [
       "       I believe I can achieve my goals, even if there are obstacles._pre  \\\n",
       "count                                          99.000000                    \n",
       "mean                                           76.363636                    \n",
       "std                                            15.743774                    \n",
       "min                                            40.000000                    \n",
       "25%                                            60.000000                    \n",
       "50%                                            80.000000                    \n",
       "75%                                            80.000000                    \n",
       "max                                           100.000000                    \n",
       "\n",
       "       I believe I can achieve my goals, even if there are obstacles._post  \\\n",
       "count                                          99.000000                     \n",
       "mean                                           80.000000                     \n",
       "std                                            12.777531                     \n",
       "min                                            60.000000                     \n",
       "25%                                            80.000000                     \n",
       "50%                                            80.000000                     \n",
       "75%                                            80.000000                     \n",
       "max                                           100.000000                     \n",
       "\n",
       "       I am able to handle unpleasant or painful feelings like sadness, fear, and anger._pre  \\\n",
       "count                                          99.000000                                       \n",
       "mean                                           71.515152                                       \n",
       "std                                            16.435628                                       \n",
       "min                                            40.000000                                       \n",
       "25%                                            60.000000                                       \n",
       "50%                                            80.000000                                       \n",
       "75%                                            80.000000                                       \n",
       "max                                           100.000000                                       \n",
       "\n",
       "       I am able to handle unpleasant or painful feelings like sadness, fear, and anger._post  \\\n",
       "count                                          99.000000                                        \n",
       "mean                                           78.383838                                        \n",
       "std                                            14.193062                                        \n",
       "min                                            60.000000                                        \n",
       "25%                                            60.000000                                        \n",
       "50%                                            80.000000                                        \n",
       "75%                                            80.000000                                        \n",
       "max                                           100.000000                                        \n",
       "\n",
       "       I tend to bounce back after illness, injury or other hardships._pre  \\\n",
       "count                                          99.000000                     \n",
       "mean                                           71.111111                     \n",
       "std                                            16.714218                     \n",
       "min                                            40.000000                     \n",
       "25%                                            60.000000                     \n",
       "50%                                            80.000000                     \n",
       "75%                                            80.000000                     \n",
       "max                                           100.000000                     \n",
       "\n",
       "       I tend to bounce back after illness, injury or other hardships._post  \\\n",
       "count                                          99.000000                      \n",
       "mean                                           74.141414                      \n",
       "std                                            15.714942                      \n",
       "min                                            40.000000                      \n",
       "25%                                            60.000000                      \n",
       "50%                                            80.000000                      \n",
       "75%                                            80.000000                      \n",
       "max                                           100.000000                      \n",
       "\n",
       "       Having to cope with stress can make me stronger._pre  \\\n",
       "count                                          99.000000      \n",
       "mean                                           61.212121      \n",
       "std                                            19.549661      \n",
       "min                                            20.000000      \n",
       "25%                                            60.000000      \n",
       "50%                                            60.000000      \n",
       "75%                                            80.000000      \n",
       "max                                           100.000000      \n",
       "\n",
       "       Having to cope with stress can make me stronger._post  \\\n",
       "count                                          99.000000       \n",
       "mean                                           59.191919       \n",
       "std                                            20.979911       \n",
       "min                                            20.000000       \n",
       "25%                                            40.000000       \n",
       "50%                                            60.000000       \n",
       "75%                                            80.000000       \n",
       "max                                           100.000000       \n",
       "\n",
       "       I can deal with whatever comes my way._pre  \\\n",
       "count                                   99.000000   \n",
       "mean                                    67.474747   \n",
       "std                                     19.290657   \n",
       "min                                     20.000000   \n",
       "25%                                     60.000000   \n",
       "50%                                     60.000000   \n",
       "75%                                     80.000000   \n",
       "max                                    100.000000   \n",
       "\n",
       "       I can deal with whatever comes my way._post  \\\n",
       "count                                    99.000000   \n",
       "mean                                     71.717172   \n",
       "std                                      16.662337   \n",
       "min                                      20.000000   \n",
       "25%                                      60.000000   \n",
       "50%                                      80.000000   \n",
       "75%                                      80.000000   \n",
       "max                                     100.000000   \n",
       "\n",
       "       I think of myself as a strong person when dealing with life’s challenges and difficulties._pre  \\\n",
       "count                                          99.000000                                                \n",
       "mean                                           66.868687                                                \n",
       "std                                            20.436385                                                \n",
       "min                                            20.000000                                                \n",
       "25%                                            60.000000                                                \n",
       "50%                                            60.000000                                                \n",
       "75%                                            80.000000                                                \n",
       "max                                           100.000000                                                \n",
       "\n",
       "       I think of myself as a strong person when dealing with life’s challenges and difficulties._post  \\\n",
       "count                                          99.000000                                                 \n",
       "mean                                           62.828283                                                 \n",
       "std                                            20.205092                                                 \n",
       "min                                            20.000000                                                 \n",
       "25%                                            60.000000                                                 \n",
       "50%                                            60.000000                                                 \n",
       "75%                                            80.000000                                                 \n",
       "max                                           100.000000                                                 \n",
       "\n",
       "       I am able to adapt when changes occur._pre  \\\n",
       "count                                   99.000000   \n",
       "mean                                    63.434343   \n",
       "std                                     17.388808   \n",
       "min                                     20.000000   \n",
       "25%                                     60.000000   \n",
       "50%                                     60.000000   \n",
       "75%                                     80.000000   \n",
       "max                                    100.000000   \n",
       "\n",
       "       I am able to adapt when changes occur._post  \\\n",
       "count                                    99.000000   \n",
       "mean                                     69.090909   \n",
       "std                                      17.207670   \n",
       "min                                      40.000000   \n",
       "25%                                      60.000000   \n",
       "50%                                      60.000000   \n",
       "75%                                      80.000000   \n",
       "max                                     100.000000   \n",
       "\n",
       "       I am not easily discouraged by failure._pre  \\\n",
       "count                                    99.000000   \n",
       "mean                                     63.030303   \n",
       "std                                      18.375591   \n",
       "min                                      20.000000   \n",
       "25%                                      60.000000   \n",
       "50%                                      60.000000   \n",
       "75%                                      80.000000   \n",
       "max                                     100.000000   \n",
       "\n",
       "       I am not easily discouraged by failure._post  \n",
       "count                                     99.000000  \n",
       "mean                                      61.616162  \n",
       "std                                       19.520114  \n",
       "min                                       20.000000  \n",
       "25%                                       40.000000  \n",
       "50%                                       60.000000  \n",
       "75%                                       80.000000  \n",
       "max                                      100.000000  "
      ]
     },
     "execution_count": 21,
     "metadata": {},
     "output_type": "execute_result"
    }
   ],
   "source": [
    "data4 = data4[[\"I believe I can achieve my goals, even if there are obstacles._pre\", \"I believe I can achieve my goals, even if there are obstacles._post\", \n",
    "\"I am able to handle unpleasant or painful feelings like sadness, fear, and anger._pre\", \"I am able to handle unpleasant or painful feelings like sadness, fear, and anger._post\", \n",
    "\"I tend to bounce back after illness, injury or other hardships._pre\", \"I tend to bounce back after illness, injury or other hardships._post\", \n",
    "\"Having to cope with stress can make me stronger._pre\", \"Having to cope with stress can make me stronger._post\",\n",
    "\"I can deal with whatever comes my way._pre\", \"I can deal with whatever comes my way._post\",\n",
    "\"I think of myself as a strong person when dealing with life’s challenges and difficulties._pre\", \"I think of myself as a strong person when dealing with life’s challenges and difficulties._post\",\n",
    "\"I am able to adapt when changes occur._pre\", \"I am able to adapt when changes occur._post\",\n",
    "\"I am not easily discouraged by failure._pre\", \"I am not easily discouraged by failure._post\"]]\n",
    "data4.describe()"
   ]
  },
  {
   "cell_type": "code",
   "execution_count": 24,
   "metadata": {},
   "outputs": [],
   "source": [
    "def runtest3(x):\n",
    "    group1 = data4[x+\"_pre\"]\n",
    "    group2 = data4[x+\"_post\"]\n",
    "    return sp.ttest_ind(group1, group2, equal_var=False)"
   ]
  },
  {
   "cell_type": "code",
   "execution_count": 26,
   "metadata": {},
   "outputs": [
    {
     "data": {
      "text/plain": [
       "TtestResult(statistic=-1.7844090123807688, pvalue=0.07596958616327046, df=188.03776038410564)"
      ]
     },
     "execution_count": 26,
     "metadata": {},
     "output_type": "execute_result"
    }
   ],
   "source": [
    "runtest3(\"I believe I can achieve my goals, even if there are obstacles.\")"
   ]
  },
  {
   "cell_type": "code",
   "execution_count": 27,
   "metadata": {},
   "outputs": [
    {
     "data": {
      "text/plain": [
       "TtestResult(statistic=-3.1471461300311243, pvalue=0.0019117358697440109, df=191.92818015110396)"
      ]
     },
     "execution_count": 27,
     "metadata": {},
     "output_type": "execute_result"
    }
   ],
   "source": [
    "runtest3(\"I am able to handle unpleasant or painful feelings like sadness, fear, and anger.\")"
   ]
  },
  {
   "cell_type": "code",
   "execution_count": 28,
   "metadata": {},
   "outputs": [
    {
     "data": {
      "text/plain": [
       "TtestResult(statistic=-1.3142466444770529, pvalue=0.1903049916730841, df=195.25980140713025)"
      ]
     },
     "execution_count": 28,
     "metadata": {},
     "output_type": "execute_result"
    }
   ],
   "source": [
    "runtest3(\"I tend to bounce back after illness, injury or other hardships.\")"
   ]
  },
  {
   "cell_type": "code",
   "execution_count": 29,
   "metadata": {},
   "outputs": [
    {
     "data": {
      "text/plain": [
       "TtestResult(statistic=0.7009469179408534, pvalue=0.48417159283315536, df=195.03091367031809)"
      ]
     },
     "execution_count": 29,
     "metadata": {},
     "output_type": "execute_result"
    }
   ],
   "source": [
    "runtest3(\"Having to cope with stress can make me stronger.\")"
   ]
  },
  {
   "cell_type": "code",
   "execution_count": 30,
   "metadata": {},
   "outputs": [
    {
     "data": {
      "text/plain": [
       "TtestResult(statistic=-1.6559767157930514, pvalue=0.09936046652647827, df=191.94040043959322)"
      ]
     },
     "execution_count": 30,
     "metadata": {},
     "output_type": "execute_result"
    }
   ],
   "source": [
    "runtest3(\"I can deal with whatever comes my way.\")"
   ]
  },
  {
   "cell_type": "code",
   "execution_count": 31,
   "metadata": {},
   "outputs": [
    {
     "data": {
      "text/plain": [
       "TtestResult(statistic=1.3988813422105033, pvalue=0.16342919359335933, df=195.9746124445363)"
      ]
     },
     "execution_count": 31,
     "metadata": {},
     "output_type": "execute_result"
    }
   ],
   "source": [
    "runtest3(\"I think of myself as a strong person when dealing with life’s challenges and difficulties.\")"
   ]
  },
  {
   "cell_type": "code",
   "execution_count": 32,
   "metadata": {},
   "outputs": [
    {
     "data": {
      "text/plain": [
       "TtestResult(statistic=-2.3006342949874794, pvalue=0.022464739025518987, df=195.97851171714402)"
      ]
     },
     "execution_count": 32,
     "metadata": {},
     "output_type": "execute_result"
    }
   ],
   "source": [
    "runtest3(\"I am able to adapt when changes occur.\")"
   ]
  },
  {
   "cell_type": "code",
   "execution_count": 33,
   "metadata": {},
   "outputs": [
    {
     "data": {
      "text/plain": [
       "TtestResult(statistic=0.5248527405527357, pvalue=0.6002808696105546, df=195.28876306814433)"
      ]
     },
     "execution_count": 33,
     "metadata": {},
     "output_type": "execute_result"
    }
   ],
   "source": [
    "runtest3(\"I am not easily discouraged by failure.\")"
   ]
  },
  {
   "cell_type": "markdown",
   "metadata": {},
   "source": [
    "From the above t-tests for significance in the change in responses in each empathy category after playing Beantastic, there was an overall significant change in the items \"I am able to handle unpleasant or painful feelings like sadness, fear, and anger.\" and \"I am able to adapt when changes occur.\" at 5% significance level. However, none of the other categories in relation to resilience were statistically significant at 5% significance level.\n",
    "\n",
    "This implies that playing Beantastic would most likely help with regards to managing emotions, which was concluded in Section 1.2.\n",
    "This also implies that playing Beantastic would also most likely help with regards to being adaptable and flexible. \n",
    "\n",
    "However, other aspects of resilience may not change after playing the game. "
   ]
  },
  {
   "cell_type": "markdown",
   "metadata": {},
   "source": [
    "#### Question 1.4: Is there a change in the NYC Youth Development Outcomes of participants after playing Beantastic?\n",
    "\n",
    "The scale we will be using is based on the NYC youth development outcomes and indicators, which consists of 7 categories: Confidence, Tenacity, Growth Mindset, Empathy, Teamwork, Emotional Management and Emotional Support. After classifying the questions in the survey according to these categories, we have excluded the Confidence, Growth Mindset and Emotional Support categories as no questions match their definitions.\n",
    "\n",
    "First, we will visualise the data to see the extent of changes in the different categories of the NYC youth development outcomes after playing Beantastic."
   ]
  },
  {
   "cell_type": "code",
   "execution_count": 34,
   "metadata": {},
   "outputs": [],
   "source": [
    "def addcolumns_tenacity(olddata, newdata, question_list, category):\n",
    "\n",
    "    newdata[category + \"_pre\"] = 0\n",
    "    newdata[category + \"_post\"] = 0\n",
    "    \n",
    "    for i, question in enumerate(question_list):\n",
    "        if i == 1: \n",
    "            newdata[question + \"_pre\"] = 6 - olddata[question + \"_pre\"]\n",
    "            newdata[question + \"_post\"] = 6 - olddata[question + \"_post\"]\n",
    "        else: \n",
    "            newdata[question + \"_pre\"] = olddata[question + \"_pre\"]\n",
    "            newdata[question + \"_post\"] = olddata[question + \"_post\"]\n",
    "        \n",
    "        newdata[category + \"_pre\"] += newdata[question + \"_pre\"]\n",
    "        newdata[category + \"_post\"] += newdata[question + \"_post\"]\n",
    "    \n",
    "    newdata[category + \"_pre\"] = (newdata[category + \"_pre\"] / (len(question_list) * 5)) * 100\n",
    "    newdata[category + \"_post\"] = (newdata[category + \"_post\"] / (len(question_list) * 5)) * 100\n",
    "\n",
    "    pre = newdata[category + \"_pre\"]\n",
    "    post = newdata[category + \"_post\"]\n",
    "    newdata[\"change in \" + category] = (post - pre) / pre * 100\n"
   ]
  },
  {
   "cell_type": "code",
   "execution_count": 41,
   "metadata": {},
   "outputs": [
    {
     "name": "stdout",
     "output_type": "stream",
     "text": [
      "Index(['te', '#'], dtype='object')\n"
     ]
    },
    {
     "data": {
      "text/html": [
       "<div>\n",
       "<style scoped>\n",
       "    .dataframe tbody tr th:only-of-type {\n",
       "        vertical-align: middle;\n",
       "    }\n",
       "\n",
       "    .dataframe tbody tr th {\n",
       "        vertical-align: top;\n",
       "    }\n",
       "\n",
       "    .dataframe thead th {\n",
       "        text-align: right;\n",
       "    }\n",
       "</style>\n",
       "<table border=\"1\" class=\"dataframe\">\n",
       "  <thead>\n",
       "    <tr style=\"text-align: right;\">\n",
       "      <th></th>\n",
       "      <th>change in Tenacity</th>\n",
       "      <th>change in Empathy</th>\n",
       "      <th>change in Teamwork</th>\n",
       "      <th>change in Emotional Management</th>\n",
       "    </tr>\n",
       "  </thead>\n",
       "  <tbody>\n",
       "    <tr>\n",
       "      <th>count</th>\n",
       "      <td>99.000000</td>\n",
       "      <td>99.000000</td>\n",
       "      <td>99.000000</td>\n",
       "      <td>99.000000</td>\n",
       "    </tr>\n",
       "    <tr>\n",
       "      <th>mean</th>\n",
       "      <td>3.622735</td>\n",
       "      <td>5.050505</td>\n",
       "      <td>5.130672</td>\n",
       "      <td>14.696970</td>\n",
       "    </tr>\n",
       "    <tr>\n",
       "      <th>std</th>\n",
       "      <td>19.037225</td>\n",
       "      <td>17.424041</td>\n",
       "      <td>24.389331</td>\n",
       "      <td>32.331338</td>\n",
       "    </tr>\n",
       "    <tr>\n",
       "      <th>min</th>\n",
       "      <td>-44.444444</td>\n",
       "      <td>-33.333333</td>\n",
       "      <td>-33.333333</td>\n",
       "      <td>-40.000000</td>\n",
       "    </tr>\n",
       "    <tr>\n",
       "      <th>25%</th>\n",
       "      <td>-11.111111</td>\n",
       "      <td>0.000000</td>\n",
       "      <td>0.000000</td>\n",
       "      <td>0.000000</td>\n",
       "    </tr>\n",
       "    <tr>\n",
       "      <th>50%</th>\n",
       "      <td>0.000000</td>\n",
       "      <td>0.000000</td>\n",
       "      <td>0.000000</td>\n",
       "      <td>0.000000</td>\n",
       "    </tr>\n",
       "    <tr>\n",
       "      <th>75%</th>\n",
       "      <td>16.666667</td>\n",
       "      <td>0.000000</td>\n",
       "      <td>13.392857</td>\n",
       "      <td>33.333333</td>\n",
       "    </tr>\n",
       "    <tr>\n",
       "      <th>max</th>\n",
       "      <td>50.000000</td>\n",
       "      <td>66.666667</td>\n",
       "      <td>166.666667</td>\n",
       "      <td>150.000000</td>\n",
       "    </tr>\n",
       "  </tbody>\n",
       "</table>\n",
       "</div>"
      ],
      "text/plain": [
       "       change in Tenacity  change in Empathy  change in Teamwork  \\\n",
       "count           99.000000          99.000000           99.000000   \n",
       "mean             3.622735           5.050505            5.130672   \n",
       "std             19.037225          17.424041           24.389331   \n",
       "min            -44.444444         -33.333333          -33.333333   \n",
       "25%            -11.111111           0.000000            0.000000   \n",
       "50%              0.000000           0.000000            0.000000   \n",
       "75%             16.666667           0.000000           13.392857   \n",
       "max             50.000000          66.666667          166.666667   \n",
       "\n",
       "       change in Emotional Management  \n",
       "count                       99.000000  \n",
       "mean                        14.696970  \n",
       "std                         32.331338  \n",
       "min                        -40.000000  \n",
       "25%                          0.000000  \n",
       "50%                          0.000000  \n",
       "75%                         33.333333  \n",
       "max                        150.000000  "
      ]
     },
     "execution_count": 41,
     "metadata": {},
     "output_type": "execute_result"
    }
   ],
   "source": [
    "TenacityList = [\n",
    "    \"i am able to persevere in the face of challenges.\",\n",
    "    \"i tend to take a long time to get over setbacks in my life..\"\n",
    "]\n",
    "\n",
    "EmpathyList = [ \n",
    "    \"i can imagine what itâ€™s like to be in someone elseâ€™s shoes.\"\n",
    "]\n",
    "\n",
    "TeamworkList = [\n",
    "    \"i consider other peopleâ€™s points of view in discussions.\",\n",
    "    \"i can consider my point of view and another personâ€™s point of view at the same time.\"\n",
    "]\n",
    "\n",
    "EmotionalManagementList = [\n",
    "    \"i know how i can manage negative thoughts and emotions.\"\n",
    "]\n",
    "\n",
    "data6 = data[[\"te\", \"#\"]]\n",
    "print(data6.columns)\n",
    "addcolumns_tenacity(data, data6, TenacityList, \"Tenacity\")\n",
    "addcolumns(data, data6, EmpathyList, \"Empathy\")\n",
    "addcolumns(data, data6, TeamworkList, \"Teamwork\")\n",
    "addcolumns(data, data6, EmotionalManagementList, \"Emotional Management\")\n",
    "\n",
    "data6_selected = data6[[\"change in Tenacity\", \"change in Empathy\", \"change in Teamwork\", \"change in Emotional Management\"]]\n",
    "data6_selected.describe()"
   ]
  },
  {
   "cell_type": "code",
   "execution_count": 42,
   "metadata": {},
   "outputs": [
    {
     "data": {
      "text/plain": [
       "<Axes: >"
      ]
     },
     "execution_count": 42,
     "metadata": {},
     "output_type": "execute_result"
    },
    {
     "data": {
      "image/png": "[encoded data removed]",
      "text/plain": [
       "<Figure size 1000x800 with 1 Axes>"
      ]
     },
     "metadata": {},
     "output_type": "display_data"
    }
   ],
   "source": [
    "data6_selected.plot.box(figsize=(10, 8), rot=30, grid=True)"
   ]
  },
  {
   "cell_type": "markdown",
   "metadata": {},
   "source": [
    "From the above boxplot and summary of statistics, we can see that, overall, there is no change in any of the categories of the NYC youth development outcomes as the median of change for every category is 0 percentage points.\n",
    "\n",
    "The change in Emotional Management varied the most while the change in Empathy varied the least, as visualised by the spread of IQR data in the boxplots as well as the standard deviations shown above.\n",
    "\n",
    "Now, we will be performing t-tests to see whether these changes in the different categories are significant."
   ]
  },
  {
   "cell_type": "code",
   "execution_count": 44,
   "metadata": {},
   "outputs": [
    {
     "data": {
      "text/html": [
       "<div>\n",
       "<style scoped>\n",
       "    .dataframe tbody tr th:only-of-type {\n",
       "        vertical-align: middle;\n",
       "    }\n",
       "\n",
       "    .dataframe tbody tr th {\n",
       "        vertical-align: top;\n",
       "    }\n",
       "\n",
       "    .dataframe thead th {\n",
       "        text-align: right;\n",
       "    }\n",
       "</style>\n",
       "<table border=\"1\" class=\"dataframe\">\n",
       "  <thead>\n",
       "    <tr style=\"text-align: right;\">\n",
       "      <th></th>\n",
       "      <th>Tenacity_pre</th>\n",
       "      <th>Tenacity_post</th>\n",
       "      <th>Empathy_pre</th>\n",
       "      <th>Empathy_post</th>\n",
       "      <th>Teamwork_pre</th>\n",
       "      <th>Teamwork_post</th>\n",
       "      <th>Emotional Management_pre</th>\n",
       "      <th>Emotional Management_post</th>\n",
       "    </tr>\n",
       "  </thead>\n",
       "  <tbody>\n",
       "    <tr>\n",
       "      <th>count</th>\n",
       "      <td>99.000000</td>\n",
       "      <td>99.000000</td>\n",
       "      <td>99.000000</td>\n",
       "      <td>99.000000</td>\n",
       "      <td>99.000000</td>\n",
       "      <td>99.00000</td>\n",
       "      <td>99.000000</td>\n",
       "      <td>99.000000</td>\n",
       "    </tr>\n",
       "    <tr>\n",
       "      <th>mean</th>\n",
       "      <td>69.696970</td>\n",
       "      <td>70.808081</td>\n",
       "      <td>78.181818</td>\n",
       "      <td>81.010101</td>\n",
       "      <td>78.080808</td>\n",
       "      <td>79.89899</td>\n",
       "      <td>71.515152</td>\n",
       "      <td>78.383838</td>\n",
       "    </tr>\n",
       "    <tr>\n",
       "      <th>std</th>\n",
       "      <td>13.359591</td>\n",
       "      <td>12.831464</td>\n",
       "      <td>14.594075</td>\n",
       "      <td>14.672962</td>\n",
       "      <td>15.822792</td>\n",
       "      <td>14.53321</td>\n",
       "      <td>16.435628</td>\n",
       "      <td>14.193062</td>\n",
       "    </tr>\n",
       "    <tr>\n",
       "      <th>min</th>\n",
       "      <td>40.000000</td>\n",
       "      <td>50.000000</td>\n",
       "      <td>40.000000</td>\n",
       "      <td>40.000000</td>\n",
       "      <td>30.000000</td>\n",
       "      <td>40.00000</td>\n",
       "      <td>40.000000</td>\n",
       "      <td>60.000000</td>\n",
       "    </tr>\n",
       "    <tr>\n",
       "      <th>25%</th>\n",
       "      <td>60.000000</td>\n",
       "      <td>60.000000</td>\n",
       "      <td>60.000000</td>\n",
       "      <td>80.000000</td>\n",
       "      <td>70.000000</td>\n",
       "      <td>70.00000</td>\n",
       "      <td>60.000000</td>\n",
       "      <td>60.000000</td>\n",
       "    </tr>\n",
       "    <tr>\n",
       "      <th>50%</th>\n",
       "      <td>70.000000</td>\n",
       "      <td>70.000000</td>\n",
       "      <td>80.000000</td>\n",
       "      <td>80.000000</td>\n",
       "      <td>80.000000</td>\n",
       "      <td>80.00000</td>\n",
       "      <td>80.000000</td>\n",
       "      <td>80.000000</td>\n",
       "    </tr>\n",
       "    <tr>\n",
       "      <th>75%</th>\n",
       "      <td>80.000000</td>\n",
       "      <td>80.000000</td>\n",
       "      <td>80.000000</td>\n",
       "      <td>100.000000</td>\n",
       "      <td>90.000000</td>\n",
       "      <td>90.00000</td>\n",
       "      <td>80.000000</td>\n",
       "      <td>80.000000</td>\n",
       "    </tr>\n",
       "    <tr>\n",
       "      <th>max</th>\n",
       "      <td>100.000000</td>\n",
       "      <td>100.000000</td>\n",
       "      <td>100.000000</td>\n",
       "      <td>100.000000</td>\n",
       "      <td>100.000000</td>\n",
       "      <td>100.00000</td>\n",
       "      <td>100.000000</td>\n",
       "      <td>100.000000</td>\n",
       "    </tr>\n",
       "  </tbody>\n",
       "</table>\n",
       "</div>"
      ],
      "text/plain": [
       "       Tenacity_pre  Tenacity_post  Empathy_pre  Empathy_post  Teamwork_pre  \\\n",
       "count     99.000000      99.000000    99.000000     99.000000     99.000000   \n",
       "mean      69.696970      70.808081    78.181818     81.010101     78.080808   \n",
       "std       13.359591      12.831464    14.594075     14.672962     15.822792   \n",
       "min       40.000000      50.000000    40.000000     40.000000     30.000000   \n",
       "25%       60.000000      60.000000    60.000000     80.000000     70.000000   \n",
       "50%       70.000000      70.000000    80.000000     80.000000     80.000000   \n",
       "75%       80.000000      80.000000    80.000000    100.000000     90.000000   \n",
       "max      100.000000     100.000000   100.000000    100.000000    100.000000   \n",
       "\n",
       "       Teamwork_post  Emotional Management_pre  Emotional Management_post  \n",
       "count       99.00000                 99.000000                  99.000000  \n",
       "mean        79.89899                 71.515152                  78.383838  \n",
       "std         14.53321                 16.435628                  14.193062  \n",
       "min         40.00000                 40.000000                  60.000000  \n",
       "25%         70.00000                 60.000000                  60.000000  \n",
       "50%         80.00000                 80.000000                  80.000000  \n",
       "75%         90.00000                 80.000000                  80.000000  \n",
       "max        100.00000                100.000000                 100.000000  "
      ]
     },
     "execution_count": 44,
     "metadata": {},
     "output_type": "execute_result"
    }
   ],
   "source": [
    "data6 = data6[[\"Tenacity_pre\", \"Tenacity_post\", \n",
    "\"Empathy_pre\", \"Empathy_post\", \n",
    "\"Teamwork_pre\", \"Teamwork_post\", \n",
    "\"Emotional Management_pre\", \"Emotional Management_post\"]]\n",
    "data6.describe()"
   ]
  },
  {
   "cell_type": "code",
   "execution_count": 45,
   "metadata": {},
   "outputs": [],
   "source": [
    "def runtest4(x):\n",
    "    group1 = data6[x+\"_pre\"]\n",
    "    group2 = data6[x+\"_post\"]\n",
    "    return sp.ttest_ind(group1, group2, equal_var=False)"
   ]
  },
  {
   "cell_type": "code",
   "execution_count": 46,
   "metadata": {},
   "outputs": [
    {
     "data": {
      "text/plain": [
       "TtestResult(statistic=-0.5968274993523431, pvalue=0.5513124390783852, df=195.68199912285948)"
      ]
     },
     "execution_count": 46,
     "metadata": {},
     "output_type": "execute_result"
    }
   ],
   "source": [
    "runtest4(\"Tenacity\")"
   ]
  },
  {
   "cell_type": "code",
   "execution_count": 47,
   "metadata": {},
   "outputs": [
    {
     "data": {
      "text/plain": [
       "TtestResult(statistic=-1.3598002073001674, pvalue=0.1754553557732057, df=195.99430418831045)"
      ]
     },
     "execution_count": 47,
     "metadata": {},
     "output_type": "execute_result"
    }
   ],
   "source": [
    "runtest4(\"Empathy\")"
   ]
  },
  {
   "cell_type": "code",
   "execution_count": 48,
   "metadata": {},
   "outputs": [
    {
     "data": {
      "text/plain": [
       "TtestResult(statistic=-0.8420420892602368, pvalue=0.4007980264847971, df=194.60026322478757)"
      ]
     },
     "execution_count": 48,
     "metadata": {},
     "output_type": "execute_result"
    }
   ],
   "source": [
    "runtest4(\"Teamwork\")"
   ]
  },
  {
   "cell_type": "code",
   "execution_count": 49,
   "metadata": {},
   "outputs": [
    {
     "data": {
      "text/plain": [
       "TtestResult(statistic=-3.1471461300311243, pvalue=0.0019117358697440109, df=191.92818015110396)"
      ]
     },
     "execution_count": 49,
     "metadata": {},
     "output_type": "execute_result"
    }
   ],
   "source": [
    "runtest4(\"Emotional Management\")"
   ]
  },
  {
   "cell_type": "markdown",
   "metadata": {},
   "source": [
    "From the above t-tests for significance in the change in responses in each NYC youth development category after playing Beantastic, there was an overall significant change in Emotional Management at 5% significance level as its p-value is 0.00191. However, none of the other categories were statistically significant at 5% significance level.\n",
    "\n",
    "This implies that playing Beantastic would most likely help with regards to managing emotions, as we had concluded in section 1.2.\n",
    "\n",
    "However, other aspects of Youth Development such as Empathy, Tenacity and Teamwork may not change significantly after playing the game."
   ]
  },
  {
   "cell_type": "markdown",
   "metadata": {},
   "source": [
    "### Question 2: Is there a relationship in the way participants respond among the different categories (eg emotional intelligence vs empathy, emotional resilience and social support etc)"
   ]
  },
  {
   "cell_type": "markdown",
   "metadata": {},
   "source": [
    "Firstly, we will be doing a correlation test to see if there are any significant correlations between the different categories."
   ]
  },
  {
   "cell_type": "code",
   "execution_count": null,
   "metadata": {},
   "outputs": [
    {
     "data": {
      "text/plain": [
       "<Axes: >"
      ]
     },
     "execution_count": 121,
     "metadata": {},
     "output_type": "execute_result"
    },
    {
     "data": {
      "image/png": "[encoded data removed]",
      "text/plain": [
       "<Figure size 640x480 with 2 Axes>"
      ]
     },
     "metadata": {},
     "output_type": "display_data"
    }
   ],
   "source": [
    "sns.heatmap(df2.corr(), annot=True, cmap=\"crest\")"
   ]
  },
  {
   "cell_type": "markdown",
   "metadata": {},
   "source": [
    "From the above correlation matrix, there is no strong correlation between the way that the different categories are answered. "
   ]
  },
  {
   "cell_type": "code",
   "execution_count": null,
   "metadata": {},
   "outputs": [
    {
     "data": {
      "text/plain": [
       "F_onewayResult(statistic=22.478055034968673, pvalue=3.0256747566593077e-24)"
      ]
     },
     "execution_count": 122,
     "metadata": {},
     "output_type": "execute_result"
    }
   ],
   "source": [
    "group1 = df['change in initiative']\n",
    "group2 = df['change in resilience']\n",
    "group3 = df['change in emotional stability'] \n",
    "group4 = df['change in empathy']\n",
    "group5 = df['change in emotional intelligence'] \n",
    "group6 = df['change in open-mindedness']\n",
    "group7 = df[\"change in mood\"]\n",
    "\n",
    "sp.bartlett(group1, group2, group3, group4, group5, group6, group7)\n",
    "sp.f_oneway(group1, group2, group3, group4, group5, group6, group7)\n"
   ]
  },
  {
   "cell_type": "code",
   "execution_count": null,
   "metadata": {},
   "outputs": [
    {
     "data": {
      "text/plain": [
       "<Axes: >"
      ]
     },
     "execution_count": 117,
     "metadata": {},
     "output_type": "execute_result"
    },
    {
     "data": {
      "image/png": "[encoded data removed]",
      "text/plain": [
       "<Figure size 640x480 with 2 Axes>"
      ]
     },
     "metadata": {},
     "output_type": "display_data"
    }
   ],
   "source": [
    "data5 = pd.DataFrame()\n",
    "data5[\"change in ER\"] = data2_selected[\"change in ER\"]\n",
    "data5[\"change in mood\"] = df[\"change in mood\"]\n",
    "sns.heatmap(data5.corr(), annot=True, cmap=\"crest\")"
   ]
  },
  {
   "cell_type": "markdown",
   "metadata": {},
   "source": [
    "There is no significant correlation between change in emotional regulation as defined by the EAI and change in mood."
   ]
  },
  {
   "cell_type": "markdown",
   "metadata": {},
   "source": [
    "### Question 3: Does the demographic affect the extent of change in the kind of mindsets they have (eg emotional resilience) (consider pre data)"
   ]
  },
  {
   "cell_type": "markdown",
   "metadata": {},
   "source": [
    "#### Question 3.1: Does the age of participants affect the extent of changes in their responses?"
   ]
  },
  {
   "cell_type": "code",
   "execution_count": null,
   "metadata": {},
   "outputs": [
    {
     "data": {
      "text/html": [
       "<div>\n",
       "<style scoped>\n",
       "    .dataframe tbody tr th:only-of-type {\n",
       "        vertical-align: middle;\n",
       "    }\n",
       "\n",
       "    .dataframe tbody tr th {\n",
       "        vertical-align: top;\n",
       "    }\n",
       "\n",
       "    .dataframe thead th {\n",
       "        text-align: right;\n",
       "    }\n",
       "</style>\n",
       "<table border=\"1\" class=\"dataframe\">\n",
       "  <thead>\n",
       "    <tr style=\"text-align: right;\">\n",
       "      <th></th>\n",
       "      <th>change</th>\n",
       "      <th>age_2</th>\n",
       "      <th>age_3</th>\n",
       "      <th>age_4</th>\n",
       "      <th>age_5</th>\n",
       "      <th>age_6</th>\n",
       "      <th>age_7</th>\n",
       "    </tr>\n",
       "  </thead>\n",
       "  <tbody>\n",
       "    <tr>\n",
       "      <th>0</th>\n",
       "      <td>72.727273</td>\n",
       "      <td>1</td>\n",
       "      <td>0</td>\n",
       "      <td>0</td>\n",
       "      <td>0</td>\n",
       "      <td>0</td>\n",
       "      <td>0</td>\n",
       "    </tr>\n",
       "    <tr>\n",
       "      <th>1</th>\n",
       "      <td>-5.555556</td>\n",
       "      <td>1</td>\n",
       "      <td>0</td>\n",
       "      <td>0</td>\n",
       "      <td>0</td>\n",
       "      <td>0</td>\n",
       "      <td>0</td>\n",
       "    </tr>\n",
       "    <tr>\n",
       "      <th>2</th>\n",
       "      <td>5.263158</td>\n",
       "      <td>1</td>\n",
       "      <td>0</td>\n",
       "      <td>0</td>\n",
       "      <td>0</td>\n",
       "      <td>0</td>\n",
       "      <td>0</td>\n",
       "    </tr>\n",
       "    <tr>\n",
       "      <th>3</th>\n",
       "      <td>100.000000</td>\n",
       "      <td>1</td>\n",
       "      <td>0</td>\n",
       "      <td>0</td>\n",
       "      <td>0</td>\n",
       "      <td>0</td>\n",
       "      <td>0</td>\n",
       "    </tr>\n",
       "    <tr>\n",
       "      <th>4</th>\n",
       "      <td>50.000000</td>\n",
       "      <td>0</td>\n",
       "      <td>0</td>\n",
       "      <td>0</td>\n",
       "      <td>1</td>\n",
       "      <td>0</td>\n",
       "      <td>0</td>\n",
       "    </tr>\n",
       "    <tr>\n",
       "      <th>...</th>\n",
       "      <td>...</td>\n",
       "      <td>...</td>\n",
       "      <td>...</td>\n",
       "      <td>...</td>\n",
       "      <td>...</td>\n",
       "      <td>...</td>\n",
       "      <td>...</td>\n",
       "    </tr>\n",
       "    <tr>\n",
       "      <th>94</th>\n",
       "      <td>11.111111</td>\n",
       "      <td>0</td>\n",
       "      <td>1</td>\n",
       "      <td>0</td>\n",
       "      <td>0</td>\n",
       "      <td>0</td>\n",
       "      <td>0</td>\n",
       "    </tr>\n",
       "    <tr>\n",
       "      <th>95</th>\n",
       "      <td>12.500000</td>\n",
       "      <td>1</td>\n",
       "      <td>0</td>\n",
       "      <td>0</td>\n",
       "      <td>0</td>\n",
       "      <td>0</td>\n",
       "      <td>0</td>\n",
       "    </tr>\n",
       "    <tr>\n",
       "      <th>96</th>\n",
       "      <td>0.000000</td>\n",
       "      <td>0</td>\n",
       "      <td>1</td>\n",
       "      <td>0</td>\n",
       "      <td>0</td>\n",
       "      <td>0</td>\n",
       "      <td>0</td>\n",
       "    </tr>\n",
       "    <tr>\n",
       "      <th>97</th>\n",
       "      <td>10.000000</td>\n",
       "      <td>0</td>\n",
       "      <td>1</td>\n",
       "      <td>0</td>\n",
       "      <td>0</td>\n",
       "      <td>0</td>\n",
       "      <td>0</td>\n",
       "    </tr>\n",
       "    <tr>\n",
       "      <th>98</th>\n",
       "      <td>15.384615</td>\n",
       "      <td>1</td>\n",
       "      <td>0</td>\n",
       "      <td>0</td>\n",
       "      <td>0</td>\n",
       "      <td>0</td>\n",
       "      <td>0</td>\n",
       "    </tr>\n",
       "  </tbody>\n",
       "</table>\n",
       "<p>99 rows × 7 columns</p>\n",
       "</div>"
      ],
      "text/plain": [
       "        change  age_2  age_3  age_4  age_5  age_6  age_7\n",
       "0    72.727273      1      0      0      0      0      0\n",
       "1    -5.555556      1      0      0      0      0      0\n",
       "2     5.263158      1      0      0      0      0      0\n",
       "3   100.000000      1      0      0      0      0      0\n",
       "4    50.000000      0      0      0      1      0      0\n",
       "..         ...    ...    ...    ...    ...    ...    ...\n",
       "94   11.111111      0      1      0      0      0      0\n",
       "95   12.500000      1      0      0      0      0      0\n",
       "96    0.000000      0      1      0      0      0      0\n",
       "97   10.000000      0      1      0      0      0      0\n",
       "98   15.384615      1      0      0      0      0      0\n",
       "\n",
       "[99 rows x 7 columns]"
      ]
     },
     "execution_count": 123,
     "metadata": {},
     "output_type": "execute_result"
    }
   ],
   "source": [
    "agedf = df[[\"please select your age group\", \"change in mood\"]]\n",
    "agedf.columns = [\"age\", \"change\"]\n",
    "agedf[\"age\"] = agedf.age.astype(\"category\")\n",
    "agedf = pd.get_dummies(agedf, dtype=int, drop_first=True)\n",
    "agedf\n"
   ]
  },
  {
   "cell_type": "code",
   "execution_count": null,
   "metadata": {},
   "outputs": [
    {
     "name": "stdout",
     "output_type": "stream",
     "text": [
      "                            OLS Regression Results                            \n",
      "==============================================================================\n",
      "Dep. Variable:                 change   R-squared:                       0.035\n",
      "Model:                            OLS   Adj. R-squared:                 -0.028\n",
      "Method:                 Least Squares   F-statistic:                    0.5592\n",
      "Date:                Thu, 19 Dec 2024   Prob (F-statistic):              0.762\n",
      "Time:                        14:05:58   Log-Likelihood:                -536.80\n",
      "No. Observations:                  99   AIC:                             1088.\n",
      "Df Residuals:                      92   BIC:                             1106.\n",
      "Df Model:                           6                                         \n",
      "Covariance Type:            nonrobust                                         \n",
      "==============================================================================\n",
      "                 coef    std err          t      P>|t|      [0.025      0.975]\n",
      "------------------------------------------------------------------------------\n",
      "Intercept     24.4318     40.181      0.608      0.545     -55.370     104.234\n",
      "age_2         18.7717     41.173      0.456      0.650     -63.001     100.544\n",
      "age_3          1.6237     41.642      0.039      0.969     -81.081      84.329\n",
      "age_4         23.4410     42.955      0.546      0.587     -61.871     108.753\n",
      "age_5         -7.4904     44.923     -0.167      0.868     -96.712      81.731\n",
      "age_6         11.0286     45.560      0.242      0.809     -79.458     101.515\n",
      "age_7        -19.1687     69.595     -0.275      0.784    -157.390     119.052\n",
      "==============================================================================\n",
      "Omnibus:                      106.282   Durbin-Watson:                   1.982\n",
      "Prob(Omnibus):                  0.000   Jarque-Bera (JB):             1568.632\n",
      "Skew:                           3.524   Prob(JB):                         0.00\n",
      "Kurtosis:                      21.182   Cond. No.                         21.8\n",
      "==============================================================================\n",
      "\n",
      "Notes:\n",
      "[1] Standard Errors assume that the covariance matrix of the errors is correctly specified.\n"
     ]
    }
   ],
   "source": [
    "model = smf.ols(formula='change ~ age_2 + age_3 + age_4 + age_5 + age_6 + age_7', data=agedf)\n",
    "print(model.fit().summary())"
   ]
  },
  {
   "cell_type": "markdown",
   "metadata": {},
   "source": [
    "None of the p-values of either the intercept or the coefficients of age dummy variables are statistically significant at 5% level of significance, and the overall p-value of the model is not statistically significant. Thus, there is insufficient evidence to conclude that the age group of participants affects the extent of change in mood of participants."
   ]
  },
  {
   "cell_type": "code",
   "execution_count": null,
   "metadata": {},
   "outputs": [
    {
     "data": {
      "text/html": [
       "<div>\n",
       "<style scoped>\n",
       "    .dataframe tbody tr th:only-of-type {\n",
       "        vertical-align: middle;\n",
       "    }\n",
       "\n",
       "    .dataframe tbody tr th {\n",
       "        vertical-align: top;\n",
       "    }\n",
       "\n",
       "    .dataframe thead th {\n",
       "        text-align: right;\n",
       "    }\n",
       "</style>\n",
       "<table border=\"1\" class=\"dataframe\">\n",
       "  <thead>\n",
       "    <tr style=\"text-align: right;\">\n",
       "      <th></th>\n",
       "      <th>mood</th>\n",
       "      <th>age_2</th>\n",
       "      <th>age_3</th>\n",
       "      <th>age_4</th>\n",
       "      <th>age_5</th>\n",
       "      <th>age_6</th>\n",
       "      <th>age_7</th>\n",
       "    </tr>\n",
       "  </thead>\n",
       "  <tbody>\n",
       "    <tr>\n",
       "      <th>0</th>\n",
       "      <td>44.0</td>\n",
       "      <td>1</td>\n",
       "      <td>0</td>\n",
       "      <td>0</td>\n",
       "      <td>0</td>\n",
       "      <td>0</td>\n",
       "      <td>0</td>\n",
       "    </tr>\n",
       "    <tr>\n",
       "      <th>1</th>\n",
       "      <td>72.0</td>\n",
       "      <td>1</td>\n",
       "      <td>0</td>\n",
       "      <td>0</td>\n",
       "      <td>0</td>\n",
       "      <td>0</td>\n",
       "      <td>0</td>\n",
       "    </tr>\n",
       "    <tr>\n",
       "      <th>2</th>\n",
       "      <td>76.0</td>\n",
       "      <td>1</td>\n",
       "      <td>0</td>\n",
       "      <td>0</td>\n",
       "      <td>0</td>\n",
       "      <td>0</td>\n",
       "      <td>0</td>\n",
       "    </tr>\n",
       "    <tr>\n",
       "      <th>3</th>\n",
       "      <td>32.0</td>\n",
       "      <td>1</td>\n",
       "      <td>0</td>\n",
       "      <td>0</td>\n",
       "      <td>0</td>\n",
       "      <td>0</td>\n",
       "      <td>0</td>\n",
       "    </tr>\n",
       "    <tr>\n",
       "      <th>4</th>\n",
       "      <td>40.0</td>\n",
       "      <td>0</td>\n",
       "      <td>0</td>\n",
       "      <td>0</td>\n",
       "      <td>1</td>\n",
       "      <td>0</td>\n",
       "      <td>0</td>\n",
       "    </tr>\n",
       "    <tr>\n",
       "      <th>...</th>\n",
       "      <td>...</td>\n",
       "      <td>...</td>\n",
       "      <td>...</td>\n",
       "      <td>...</td>\n",
       "      <td>...</td>\n",
       "      <td>...</td>\n",
       "      <td>...</td>\n",
       "    </tr>\n",
       "    <tr>\n",
       "      <th>94</th>\n",
       "      <td>72.0</td>\n",
       "      <td>0</td>\n",
       "      <td>1</td>\n",
       "      <td>0</td>\n",
       "      <td>0</td>\n",
       "      <td>0</td>\n",
       "      <td>0</td>\n",
       "    </tr>\n",
       "    <tr>\n",
       "      <th>95</th>\n",
       "      <td>64.0</td>\n",
       "      <td>1</td>\n",
       "      <td>0</td>\n",
       "      <td>0</td>\n",
       "      <td>0</td>\n",
       "      <td>0</td>\n",
       "      <td>0</td>\n",
       "    </tr>\n",
       "    <tr>\n",
       "      <th>96</th>\n",
       "      <td>80.0</td>\n",
       "      <td>0</td>\n",
       "      <td>1</td>\n",
       "      <td>0</td>\n",
       "      <td>0</td>\n",
       "      <td>0</td>\n",
       "      <td>0</td>\n",
       "    </tr>\n",
       "    <tr>\n",
       "      <th>97</th>\n",
       "      <td>40.0</td>\n",
       "      <td>0</td>\n",
       "      <td>1</td>\n",
       "      <td>0</td>\n",
       "      <td>0</td>\n",
       "      <td>0</td>\n",
       "      <td>0</td>\n",
       "    </tr>\n",
       "    <tr>\n",
       "      <th>98</th>\n",
       "      <td>52.0</td>\n",
       "      <td>1</td>\n",
       "      <td>0</td>\n",
       "      <td>0</td>\n",
       "      <td>0</td>\n",
       "      <td>0</td>\n",
       "      <td>0</td>\n",
       "    </tr>\n",
       "  </tbody>\n",
       "</table>\n",
       "<p>99 rows × 7 columns</p>\n",
       "</div>"
      ],
      "text/plain": [
       "    mood  age_2  age_3  age_4  age_5  age_6  age_7\n",
       "0   44.0      1      0      0      0      0      0\n",
       "1   72.0      1      0      0      0      0      0\n",
       "2   76.0      1      0      0      0      0      0\n",
       "3   32.0      1      0      0      0      0      0\n",
       "4   40.0      0      0      0      1      0      0\n",
       "..   ...    ...    ...    ...    ...    ...    ...\n",
       "94  72.0      0      1      0      0      0      0\n",
       "95  64.0      1      0      0      0      0      0\n",
       "96  80.0      0      1      0      0      0      0\n",
       "97  40.0      0      1      0      0      0      0\n",
       "98  52.0      1      0      0      0      0      0\n",
       "\n",
       "[99 rows x 7 columns]"
      ]
     },
     "execution_count": 79,
     "metadata": {},
     "output_type": "execute_result"
    }
   ],
   "source": [
    "agedf2 = df[[\"please select your age group\", \"mood_pre\"]]\n",
    "agedf2.columns = [\"age\", \"mood\"]\n",
    "agedf2[\"age\"] = agedf2.age.astype(\"category\")\n",
    "agedf2 = pd.get_dummies(agedf2, dtype=int, drop_first=True)\n",
    "agedf2\n"
   ]
  },
  {
   "cell_type": "code",
   "execution_count": null,
   "metadata": {},
   "outputs": [
    {
     "name": "stdout",
     "output_type": "stream",
     "text": [
      "                            OLS Regression Results                            \n",
      "==============================================================================\n",
      "Dep. Variable:                   mood   R-squared:                       0.038\n",
      "Model:                            OLS   Adj. R-squared:                 -0.025\n",
      "Method:                 Least Squares   F-statistic:                    0.5988\n",
      "Date:                Wed, 08 Jan 2025   Prob (F-statistic):              0.731\n",
      "Time:                        10:50:33   Log-Likelihood:                -415.91\n",
      "No. Observations:                  99   AIC:                             845.8\n",
      "Df Residuals:                      92   BIC:                             864.0\n",
      "Df Model:                           6                                         \n",
      "Covariance Type:            nonrobust                                         \n",
      "==============================================================================\n",
      "                 coef    std err          t      P>|t|      [0.025      0.975]\n",
      "------------------------------------------------------------------------------\n",
      "Intercept     54.0000     11.850      4.557      0.000      30.466      77.534\n",
      "age_2          3.6000     12.142      0.296      0.768     -20.515      27.715\n",
      "age_3          1.8519     12.281      0.151      0.880     -22.538      26.242\n",
      "age_4         -1.7143     12.668     -0.135      0.893     -26.873      23.445\n",
      "age_5          7.5000     13.248      0.566      0.573     -18.812      33.812\n",
      "age_6         -1.4286     13.436     -0.106      0.916     -28.114      25.257\n",
      "age_7         22.0000     20.524      1.072      0.287     -18.762      62.762\n",
      "==============================================================================\n",
      "Omnibus:                        0.372   Durbin-Watson:                   2.167\n",
      "Prob(Omnibus):                  0.830   Jarque-Bera (JB):                0.130\n",
      "Skew:                          -0.077   Prob(JB):                        0.937\n",
      "Kurtosis:                       3.089   Cond. No.                         21.8\n",
      "==============================================================================\n",
      "\n",
      "Notes:\n",
      "[1] Standard Errors assume that the covariance matrix of the errors is correctly specified.\n"
     ]
    }
   ],
   "source": [
    "model = smf.ols(formula='mood ~ age_2 + age_3 + age_4 + age_5 + age_6 + age_7', data=agedf2)\n",
    "print(model.fit().summary())"
   ]
  },
  {
   "cell_type": "markdown",
   "metadata": {},
   "source": [
    "None of the p-values of the coefficients of age dummy variables are statistically significant at 5% level of significance, and the overall p-value of the model is not statistically significant. Thus, there is insufficient evidence to conclude that the age group of participants affects the extent of change in mood of participants."
   ]
  },
  {
   "cell_type": "code",
   "execution_count": null,
   "metadata": {},
   "outputs": [
    {
     "data": {
      "text/html": [
       "<div>\n",
       "<style scoped>\n",
       "    .dataframe tbody tr th:only-of-type {\n",
       "        vertical-align: middle;\n",
       "    }\n",
       "\n",
       "    .dataframe tbody tr th {\n",
       "        vertical-align: top;\n",
       "    }\n",
       "\n",
       "    .dataframe thead th {\n",
       "        text-align: right;\n",
       "    }\n",
       "</style>\n",
       "<table border=\"1\" class=\"dataframe\">\n",
       "  <thead>\n",
       "    <tr style=\"text-align: right;\">\n",
       "      <th></th>\n",
       "      <th>ER</th>\n",
       "      <th>age_2</th>\n",
       "      <th>age_3</th>\n",
       "      <th>age_4</th>\n",
       "      <th>age_5</th>\n",
       "      <th>age_6</th>\n",
       "      <th>age_7</th>\n",
       "    </tr>\n",
       "  </thead>\n",
       "  <tbody>\n",
       "    <tr>\n",
       "      <th>0</th>\n",
       "      <td>65.0</td>\n",
       "      <td>1</td>\n",
       "      <td>0</td>\n",
       "      <td>0</td>\n",
       "      <td>0</td>\n",
       "      <td>0</td>\n",
       "      <td>0</td>\n",
       "    </tr>\n",
       "    <tr>\n",
       "      <th>1</th>\n",
       "      <td>60.0</td>\n",
       "      <td>1</td>\n",
       "      <td>0</td>\n",
       "      <td>0</td>\n",
       "      <td>0</td>\n",
       "      <td>0</td>\n",
       "      <td>0</td>\n",
       "    </tr>\n",
       "    <tr>\n",
       "      <th>2</th>\n",
       "      <td>70.0</td>\n",
       "      <td>1</td>\n",
       "      <td>0</td>\n",
       "      <td>0</td>\n",
       "      <td>0</td>\n",
       "      <td>0</td>\n",
       "      <td>0</td>\n",
       "    </tr>\n",
       "    <tr>\n",
       "      <th>3</th>\n",
       "      <td>60.0</td>\n",
       "      <td>1</td>\n",
       "      <td>0</td>\n",
       "      <td>0</td>\n",
       "      <td>0</td>\n",
       "      <td>0</td>\n",
       "      <td>0</td>\n",
       "    </tr>\n",
       "    <tr>\n",
       "      <th>4</th>\n",
       "      <td>55.0</td>\n",
       "      <td>0</td>\n",
       "      <td>0</td>\n",
       "      <td>0</td>\n",
       "      <td>1</td>\n",
       "      <td>0</td>\n",
       "      <td>0</td>\n",
       "    </tr>\n",
       "    <tr>\n",
       "      <th>...</th>\n",
       "      <td>...</td>\n",
       "      <td>...</td>\n",
       "      <td>...</td>\n",
       "      <td>...</td>\n",
       "      <td>...</td>\n",
       "      <td>...</td>\n",
       "      <td>...</td>\n",
       "    </tr>\n",
       "    <tr>\n",
       "      <th>94</th>\n",
       "      <td>65.0</td>\n",
       "      <td>0</td>\n",
       "      <td>1</td>\n",
       "      <td>0</td>\n",
       "      <td>0</td>\n",
       "      <td>0</td>\n",
       "      <td>0</td>\n",
       "    </tr>\n",
       "    <tr>\n",
       "      <th>95</th>\n",
       "      <td>70.0</td>\n",
       "      <td>1</td>\n",
       "      <td>0</td>\n",
       "      <td>0</td>\n",
       "      <td>0</td>\n",
       "      <td>0</td>\n",
       "      <td>0</td>\n",
       "    </tr>\n",
       "    <tr>\n",
       "      <th>96</th>\n",
       "      <td>70.0</td>\n",
       "      <td>0</td>\n",
       "      <td>1</td>\n",
       "      <td>0</td>\n",
       "      <td>0</td>\n",
       "      <td>0</td>\n",
       "      <td>0</td>\n",
       "    </tr>\n",
       "    <tr>\n",
       "      <th>97</th>\n",
       "      <td>40.0</td>\n",
       "      <td>0</td>\n",
       "      <td>1</td>\n",
       "      <td>0</td>\n",
       "      <td>0</td>\n",
       "      <td>0</td>\n",
       "      <td>0</td>\n",
       "    </tr>\n",
       "    <tr>\n",
       "      <th>98</th>\n",
       "      <td>70.0</td>\n",
       "      <td>1</td>\n",
       "      <td>0</td>\n",
       "      <td>0</td>\n",
       "      <td>0</td>\n",
       "      <td>0</td>\n",
       "      <td>0</td>\n",
       "    </tr>\n",
       "  </tbody>\n",
       "</table>\n",
       "<p>99 rows × 7 columns</p>\n",
       "</div>"
      ],
      "text/plain": [
       "      ER  age_2  age_3  age_4  age_5  age_6  age_7\n",
       "0   65.0      1      0      0      0      0      0\n",
       "1   60.0      1      0      0      0      0      0\n",
       "2   70.0      1      0      0      0      0      0\n",
       "3   60.0      1      0      0      0      0      0\n",
       "4   55.0      0      0      0      1      0      0\n",
       "..   ...    ...    ...    ...    ...    ...    ...\n",
       "94  65.0      0      1      0      0      0      0\n",
       "95  70.0      1      0      0      0      0      0\n",
       "96  70.0      0      1      0      0      0      0\n",
       "97  40.0      0      1      0      0      0      0\n",
       "98  70.0      1      0      0      0      0      0\n",
       "\n",
       "[99 rows x 7 columns]"
      ]
     },
     "execution_count": 118,
     "metadata": {},
     "output_type": "execute_result"
    }
   ],
   "source": [
    "agedata = pd.DataFrame()\n",
    "agedata[\"age\"] = df[\"please select your age group\"]\n",
    "agedata[\"ER\"] = data2[\"ER_pre\"]\n",
    "agedata[\"age\"] = agedata.age.astype(\"category\")\n",
    "agedata = pd.get_dummies(agedata, dtype=int, drop_first=True)\n",
    "agedata"
   ]
  },
  {
   "cell_type": "code",
   "execution_count": null,
   "metadata": {},
   "outputs": [
    {
     "name": "stdout",
     "output_type": "stream",
     "text": [
      "                            OLS Regression Results                            \n",
      "==============================================================================\n",
      "Dep. Variable:                     ER   R-squared:                       0.068\n",
      "Model:                            OLS   Adj. R-squared:                  0.007\n",
      "Method:                 Least Squares   F-statistic:                     1.120\n",
      "Date:                Wed, 08 Jan 2025   Prob (F-statistic):              0.357\n",
      "Time:                        11:46:09   Log-Likelihood:                -350.23\n",
      "No. Observations:                  99   AIC:                             714.5\n",
      "Df Residuals:                      92   BIC:                             732.6\n",
      "Df Model:                           6                                         \n",
      "Covariance Type:            nonrobust                                         \n",
      "==============================================================================\n",
      "                 coef    std err          t      P>|t|      [0.025      0.975]\n",
      "------------------------------------------------------------------------------\n",
      "Intercept     60.0000      6.103      9.831      0.000      47.879      72.121\n",
      "age_2         -0.7500      6.254     -0.120      0.905     -13.171      11.671\n",
      "age_3         -0.1852      6.325     -0.029      0.977     -12.748      12.377\n",
      "age_4         -3.9286      6.525     -0.602      0.549     -16.887       9.030\n",
      "age_5         -0.6250      6.824     -0.092      0.927     -14.177      12.927\n",
      "age_6         -0.7143      6.920     -0.103      0.918     -14.459      13.030\n",
      "age_7        -20.0000     10.571     -1.892      0.062     -40.995       0.995\n",
      "==============================================================================\n",
      "Omnibus:                        0.528   Durbin-Watson:                   2.077\n",
      "Prob(Omnibus):                  0.768   Jarque-Bera (JB):                0.174\n",
      "Skew:                          -0.045   Prob(JB):                        0.917\n",
      "Kurtosis:                       3.185   Cond. No.                         21.8\n",
      "==============================================================================\n",
      "\n",
      "Notes:\n",
      "[1] Standard Errors assume that the covariance matrix of the errors is correctly specified.\n"
     ]
    }
   ],
   "source": [
    "model = smf.ols(formula='ER ~ age_2 + age_3 + age_4 + age_5 + age_6 + age_7', data=agedata)\n",
    "print(model.fit().summary())"
   ]
  },
  {
   "cell_type": "markdown",
   "metadata": {},
   "source": [
    "None of the p-values of the coefficients of age dummy variables are statistically significant at 5% level of significance, and the overall p-value of the model is not statistically significant. Thus, there is insufficient evidence to conclude that the age group of participants affects the emotional regulation levels of participants before the game."
   ]
  },
  {
   "cell_type": "code",
   "execution_count": null,
   "metadata": {},
   "outputs": [
    {
     "data": {
      "text/html": [
       "<div>\n",
       "<style scoped>\n",
       "    .dataframe tbody tr th:only-of-type {\n",
       "        vertical-align: middle;\n",
       "    }\n",
       "\n",
       "    .dataframe tbody tr th {\n",
       "        vertical-align: top;\n",
       "    }\n",
       "\n",
       "    .dataframe thead th {\n",
       "        text-align: right;\n",
       "    }\n",
       "</style>\n",
       "<table border=\"1\" class=\"dataframe\">\n",
       "  <thead>\n",
       "    <tr style=\"text-align: right;\">\n",
       "      <th></th>\n",
       "      <th>ER</th>\n",
       "      <th>age_2</th>\n",
       "      <th>age_3</th>\n",
       "      <th>age_4</th>\n",
       "      <th>age_5</th>\n",
       "      <th>age_6</th>\n",
       "      <th>age_7</th>\n",
       "    </tr>\n",
       "  </thead>\n",
       "  <tbody>\n",
       "    <tr>\n",
       "      <th>0</th>\n",
       "      <td>0.000000</td>\n",
       "      <td>1</td>\n",
       "      <td>0</td>\n",
       "      <td>0</td>\n",
       "      <td>0</td>\n",
       "      <td>0</td>\n",
       "      <td>0</td>\n",
       "    </tr>\n",
       "    <tr>\n",
       "      <th>1</th>\n",
       "      <td>8.333333</td>\n",
       "      <td>1</td>\n",
       "      <td>0</td>\n",
       "      <td>0</td>\n",
       "      <td>0</td>\n",
       "      <td>0</td>\n",
       "      <td>0</td>\n",
       "    </tr>\n",
       "    <tr>\n",
       "      <th>2</th>\n",
       "      <td>-14.285714</td>\n",
       "      <td>1</td>\n",
       "      <td>0</td>\n",
       "      <td>0</td>\n",
       "      <td>0</td>\n",
       "      <td>0</td>\n",
       "      <td>0</td>\n",
       "    </tr>\n",
       "    <tr>\n",
       "      <th>3</th>\n",
       "      <td>0.000000</td>\n",
       "      <td>1</td>\n",
       "      <td>0</td>\n",
       "      <td>0</td>\n",
       "      <td>0</td>\n",
       "      <td>0</td>\n",
       "      <td>0</td>\n",
       "    </tr>\n",
       "    <tr>\n",
       "      <th>4</th>\n",
       "      <td>27.272727</td>\n",
       "      <td>0</td>\n",
       "      <td>0</td>\n",
       "      <td>0</td>\n",
       "      <td>1</td>\n",
       "      <td>0</td>\n",
       "      <td>0</td>\n",
       "    </tr>\n",
       "    <tr>\n",
       "      <th>...</th>\n",
       "      <td>...</td>\n",
       "      <td>...</td>\n",
       "      <td>...</td>\n",
       "      <td>...</td>\n",
       "      <td>...</td>\n",
       "      <td>...</td>\n",
       "      <td>...</td>\n",
       "    </tr>\n",
       "    <tr>\n",
       "      <th>94</th>\n",
       "      <td>0.000000</td>\n",
       "      <td>0</td>\n",
       "      <td>1</td>\n",
       "      <td>0</td>\n",
       "      <td>0</td>\n",
       "      <td>0</td>\n",
       "      <td>0</td>\n",
       "    </tr>\n",
       "    <tr>\n",
       "      <th>95</th>\n",
       "      <td>-7.142857</td>\n",
       "      <td>1</td>\n",
       "      <td>0</td>\n",
       "      <td>0</td>\n",
       "      <td>0</td>\n",
       "      <td>0</td>\n",
       "      <td>0</td>\n",
       "    </tr>\n",
       "    <tr>\n",
       "      <th>96</th>\n",
       "      <td>0.000000</td>\n",
       "      <td>0</td>\n",
       "      <td>1</td>\n",
       "      <td>0</td>\n",
       "      <td>0</td>\n",
       "      <td>0</td>\n",
       "      <td>0</td>\n",
       "    </tr>\n",
       "    <tr>\n",
       "      <th>97</th>\n",
       "      <td>12.500000</td>\n",
       "      <td>0</td>\n",
       "      <td>1</td>\n",
       "      <td>0</td>\n",
       "      <td>0</td>\n",
       "      <td>0</td>\n",
       "      <td>0</td>\n",
       "    </tr>\n",
       "    <tr>\n",
       "      <th>98</th>\n",
       "      <td>-14.285714</td>\n",
       "      <td>1</td>\n",
       "      <td>0</td>\n",
       "      <td>0</td>\n",
       "      <td>0</td>\n",
       "      <td>0</td>\n",
       "      <td>0</td>\n",
       "    </tr>\n",
       "  </tbody>\n",
       "</table>\n",
       "<p>99 rows × 7 columns</p>\n",
       "</div>"
      ],
      "text/plain": [
       "           ER  age_2  age_3  age_4  age_5  age_6  age_7\n",
       "0    0.000000      1      0      0      0      0      0\n",
       "1    8.333333      1      0      0      0      0      0\n",
       "2  -14.285714      1      0      0      0      0      0\n",
       "3    0.000000      1      0      0      0      0      0\n",
       "4   27.272727      0      0      0      1      0      0\n",
       "..        ...    ...    ...    ...    ...    ...    ...\n",
       "94   0.000000      0      1      0      0      0      0\n",
       "95  -7.142857      1      0      0      0      0      0\n",
       "96   0.000000      0      1      0      0      0      0\n",
       "97  12.500000      0      1      0      0      0      0\n",
       "98 -14.285714      1      0      0      0      0      0\n",
       "\n",
       "[99 rows x 7 columns]"
      ]
     },
     "execution_count": 121,
     "metadata": {},
     "output_type": "execute_result"
    }
   ],
   "source": [
    "agedata2 = pd.DataFrame()\n",
    "agedata2[\"age\"] = df[\"please select your age group\"]\n",
    "agedata2[\"ER\"] = data2[\"change in ER\"]\n",
    "agedata2[\"age\"] = agedata2.age.astype(\"category\")\n",
    "agedata2 = pd.get_dummies(agedata2, dtype=int, drop_first=True)\n",
    "agedata2"
   ]
  },
  {
   "cell_type": "code",
   "execution_count": null,
   "metadata": {},
   "outputs": [
    {
     "name": "stdout",
     "output_type": "stream",
     "text": [
      "                            OLS Regression Results                            \n",
      "==============================================================================\n",
      "Dep. Variable:                     ER   R-squared:                       0.013\n",
      "Model:                            OLS   Adj. R-squared:                 -0.052\n",
      "Method:                 Least Squares   F-statistic:                    0.1966\n",
      "Date:                Wed, 08 Jan 2025   Prob (F-statistic):              0.977\n",
      "Time:                        11:48:33   Log-Likelihood:                -407.70\n",
      "No. Observations:                  99   AIC:                             829.4\n",
      "Df Residuals:                      92   BIC:                             847.6\n",
      "Df Model:                           6                                         \n",
      "Covariance Type:            nonrobust                                         \n",
      "==============================================================================\n",
      "                 coef    std err          t      P>|t|      [0.025      0.975]\n",
      "------------------------------------------------------------------------------\n",
      "Intercept      5.2448     10.906      0.481      0.632     -16.416      26.905\n",
      "age_2          1.0231     11.175      0.092      0.927     -21.172      23.218\n",
      "age_3          4.0153     11.303      0.355      0.723     -18.433      26.464\n",
      "age_4          3.8843     11.659      0.333      0.740     -19.272      27.040\n",
      "age_5         -0.5694     12.193     -0.047      0.963     -24.787      23.648\n",
      "age_6          2.1087     12.366      0.171      0.865     -22.452      26.669\n",
      "age_7          7.2552     18.890      0.384      0.702     -30.262      44.772\n",
      "==============================================================================\n",
      "Omnibus:                        8.135   Durbin-Watson:                   1.793\n",
      "Prob(Omnibus):                  0.017   Jarque-Bera (JB):                7.791\n",
      "Skew:                           0.658   Prob(JB):                       0.0203\n",
      "Kurtosis:                       3.396   Cond. No.                         21.8\n",
      "==============================================================================\n",
      "\n",
      "Notes:\n",
      "[1] Standard Errors assume that the covariance matrix of the errors is correctly specified.\n"
     ]
    }
   ],
   "source": [
    "model = smf.ols(formula='ER ~ age_2 + age_3 + age_4 + age_5 + age_6 + age_7', data=agedata2)\n",
    "print(model.fit().summary())"
   ]
  },
  {
   "cell_type": "markdown",
   "metadata": {},
   "source": [
    "None of the p-values of the coefficients of age dummy variables are statistically significant at 5% level of significance, and the overall p-value of the model is not statistically significant. Thus, there is insufficient evidence to conclude that the age group of participants affects the change in emotional regulation of participants after the game."
   ]
  },
  {
   "cell_type": "markdown",
   "metadata": {},
   "source": [
    "#### Question 3.2: Does the job status of participants affect the extent of changes in their responses?"
   ]
  },
  {
   "cell_type": "code",
   "execution_count": null,
   "metadata": {},
   "outputs": [
    {
     "data": {
      "text/html": [
       "<div>\n",
       "<style scoped>\n",
       "    .dataframe tbody tr th:only-of-type {\n",
       "        vertical-align: middle;\n",
       "    }\n",
       "\n",
       "    .dataframe tbody tr th {\n",
       "        vertical-align: top;\n",
       "    }\n",
       "\n",
       "    .dataframe thead th {\n",
       "        text-align: right;\n",
       "    }\n",
       "</style>\n",
       "<table border=\"1\" class=\"dataframe\">\n",
       "  <thead>\n",
       "    <tr style=\"text-align: right;\">\n",
       "      <th></th>\n",
       "      <th>change</th>\n",
       "      <th>job_2</th>\n",
       "      <th>job_3</th>\n",
       "      <th>job_4</th>\n",
       "      <th>job_6</th>\n",
       "      <th>job_7</th>\n",
       "      <th>job_8</th>\n",
       "      <th>job_10</th>\n",
       "      <th>job_12</th>\n",
       "      <th>job_13</th>\n",
       "    </tr>\n",
       "  </thead>\n",
       "  <tbody>\n",
       "    <tr>\n",
       "      <th>0</th>\n",
       "      <td>72.727273</td>\n",
       "      <td>0</td>\n",
       "      <td>0</td>\n",
       "      <td>0</td>\n",
       "      <td>0</td>\n",
       "      <td>0</td>\n",
       "      <td>0</td>\n",
       "      <td>0</td>\n",
       "      <td>0</td>\n",
       "      <td>0</td>\n",
       "    </tr>\n",
       "    <tr>\n",
       "      <th>1</th>\n",
       "      <td>-5.555556</td>\n",
       "      <td>0</td>\n",
       "      <td>0</td>\n",
       "      <td>0</td>\n",
       "      <td>0</td>\n",
       "      <td>0</td>\n",
       "      <td>0</td>\n",
       "      <td>0</td>\n",
       "      <td>0</td>\n",
       "      <td>0</td>\n",
       "    </tr>\n",
       "    <tr>\n",
       "      <th>2</th>\n",
       "      <td>5.263158</td>\n",
       "      <td>0</td>\n",
       "      <td>0</td>\n",
       "      <td>0</td>\n",
       "      <td>0</td>\n",
       "      <td>0</td>\n",
       "      <td>0</td>\n",
       "      <td>0</td>\n",
       "      <td>0</td>\n",
       "      <td>0</td>\n",
       "    </tr>\n",
       "    <tr>\n",
       "      <th>3</th>\n",
       "      <td>100.000000</td>\n",
       "      <td>0</td>\n",
       "      <td>0</td>\n",
       "      <td>0</td>\n",
       "      <td>0</td>\n",
       "      <td>1</td>\n",
       "      <td>0</td>\n",
       "      <td>0</td>\n",
       "      <td>0</td>\n",
       "      <td>0</td>\n",
       "    </tr>\n",
       "    <tr>\n",
       "      <th>4</th>\n",
       "      <td>50.000000</td>\n",
       "      <td>0</td>\n",
       "      <td>0</td>\n",
       "      <td>0</td>\n",
       "      <td>1</td>\n",
       "      <td>0</td>\n",
       "      <td>0</td>\n",
       "      <td>0</td>\n",
       "      <td>0</td>\n",
       "      <td>0</td>\n",
       "    </tr>\n",
       "    <tr>\n",
       "      <th>...</th>\n",
       "      <td>...</td>\n",
       "      <td>...</td>\n",
       "      <td>...</td>\n",
       "      <td>...</td>\n",
       "      <td>...</td>\n",
       "      <td>...</td>\n",
       "      <td>...</td>\n",
       "      <td>...</td>\n",
       "      <td>...</td>\n",
       "      <td>...</td>\n",
       "    </tr>\n",
       "    <tr>\n",
       "      <th>94</th>\n",
       "      <td>11.111111</td>\n",
       "      <td>1</td>\n",
       "      <td>0</td>\n",
       "      <td>0</td>\n",
       "      <td>0</td>\n",
       "      <td>0</td>\n",
       "      <td>0</td>\n",
       "      <td>0</td>\n",
       "      <td>0</td>\n",
       "      <td>0</td>\n",
       "    </tr>\n",
       "    <tr>\n",
       "      <th>95</th>\n",
       "      <td>12.500000</td>\n",
       "      <td>1</td>\n",
       "      <td>0</td>\n",
       "      <td>0</td>\n",
       "      <td>0</td>\n",
       "      <td>0</td>\n",
       "      <td>0</td>\n",
       "      <td>0</td>\n",
       "      <td>0</td>\n",
       "      <td>0</td>\n",
       "    </tr>\n",
       "    <tr>\n",
       "      <th>96</th>\n",
       "      <td>0.000000</td>\n",
       "      <td>0</td>\n",
       "      <td>0</td>\n",
       "      <td>0</td>\n",
       "      <td>1</td>\n",
       "      <td>0</td>\n",
       "      <td>0</td>\n",
       "      <td>0</td>\n",
       "      <td>0</td>\n",
       "      <td>0</td>\n",
       "    </tr>\n",
       "    <tr>\n",
       "      <th>97</th>\n",
       "      <td>10.000000</td>\n",
       "      <td>0</td>\n",
       "      <td>0</td>\n",
       "      <td>0</td>\n",
       "      <td>1</td>\n",
       "      <td>0</td>\n",
       "      <td>0</td>\n",
       "      <td>0</td>\n",
       "      <td>0</td>\n",
       "      <td>0</td>\n",
       "    </tr>\n",
       "    <tr>\n",
       "      <th>98</th>\n",
       "      <td>15.384615</td>\n",
       "      <td>0</td>\n",
       "      <td>0</td>\n",
       "      <td>0</td>\n",
       "      <td>1</td>\n",
       "      <td>0</td>\n",
       "      <td>0</td>\n",
       "      <td>0</td>\n",
       "      <td>0</td>\n",
       "      <td>0</td>\n",
       "    </tr>\n",
       "  </tbody>\n",
       "</table>\n",
       "<p>99 rows × 10 columns</p>\n",
       "</div>"
      ],
      "text/plain": [
       "        change  job_2  job_3  job_4  job_6  job_7  job_8  job_10  job_12  \\\n",
       "0    72.727273      0      0      0      0      0      0       0       0   \n",
       "1    -5.555556      0      0      0      0      0      0       0       0   \n",
       "2     5.263158      0      0      0      0      0      0       0       0   \n",
       "3   100.000000      0      0      0      0      1      0       0       0   \n",
       "4    50.000000      0      0      0      1      0      0       0       0   \n",
       "..         ...    ...    ...    ...    ...    ...    ...     ...     ...   \n",
       "94   11.111111      1      0      0      0      0      0       0       0   \n",
       "95   12.500000      1      0      0      0      0      0       0       0   \n",
       "96    0.000000      0      0      0      1      0      0       0       0   \n",
       "97   10.000000      0      0      0      1      0      0       0       0   \n",
       "98   15.384615      0      0      0      1      0      0       0       0   \n",
       "\n",
       "    job_13  \n",
       "0        0  \n",
       "1        0  \n",
       "2        0  \n",
       "3        0  \n",
       "4        0  \n",
       "..     ...  \n",
       "94       0  \n",
       "95       0  \n",
       "96       0  \n",
       "97       0  \n",
       "98       0  \n",
       "\n",
       "[99 rows x 10 columns]"
      ]
     },
     "execution_count": 125,
     "metadata": {},
     "output_type": "execute_result"
    }
   ],
   "source": [
    "jobdf = df[[\"job status\", \"change in mood\"]]\n",
    "jobdf.columns = [\"job\", \"change\"]\n",
    "jobdf[\"job\"] = jobdf.job.astype(\"category\")\n",
    "jobdf = pd.get_dummies(jobdf, dtype=int, drop_first=True)\n",
    "jobdf # group broader, eg uni vs poly + ite"
   ]
  },
  {
   "cell_type": "markdown",
   "metadata": {},
   "source": [
    "1 - jc\n",
    "2 - poly\n",
    "3 - ite\n",
    "4 - uni\n",
    "5 - NS \n",
    "6 - working\n",
    "7 - in transition\n",
    "8 - other \n",
    "9 - jc and working\n",
    "10 - poly and working\n",
    "11 - ite and working\n",
    "12 - uni and working\n",
    "13 - NS and working\n",
    "14 - in transition and working"
   ]
  },
  {
   "cell_type": "code",
   "execution_count": null,
   "metadata": {},
   "outputs": [
    {
     "name": "stdout",
     "output_type": "stream",
     "text": [
      "                            OLS Regression Results                            \n",
      "==============================================================================\n",
      "Dep. Variable:                 change   R-squared:                       0.080\n",
      "Model:                            OLS   Adj. R-squared:                 -0.013\n",
      "Method:                 Least Squares   F-statistic:                    0.8651\n",
      "Date:                Thu, 19 Dec 2024   Prob (F-statistic):              0.559\n",
      "Time:                        14:29:34   Log-Likelihood:                -534.42\n",
      "No. Observations:                  99   AIC:                             1089.\n",
      "Df Residuals:                      89   BIC:                             1115.\n",
      "Df Model:                           9                                         \n",
      "Covariance Type:            nonrobust                                         \n",
      "==============================================================================\n",
      "                 coef    std err          t      P>|t|      [0.025      0.975]\n",
      "------------------------------------------------------------------------------\n",
      "Intercept     56.1470     18.801      2.986      0.004      18.790      93.504\n",
      "job_2         -6.8450     23.781     -0.288      0.774     -54.098      40.408\n",
      "job_3        -35.9547     44.092     -0.815      0.417    -123.564      51.654\n",
      "job_4        -42.0736     29.727     -1.415      0.160    -101.140      16.992\n",
      "job_6        -25.8213     20.595     -1.254      0.213     -66.744      15.101\n",
      "job_7        -13.9712     31.460     -0.444      0.658     -76.481      48.539\n",
      "job_8        -27.3427     26.588     -1.028      0.307     -80.173      25.488\n",
      "job_10       -79.2239     59.453     -1.333      0.186    -197.356      38.908\n",
      "job_12       -18.6413     29.727     -0.627      0.532     -77.707      40.425\n",
      "job_13        77.1864     59.453      1.298      0.198     -40.946     195.319\n",
      "==============================================================================\n",
      "Omnibus:                      106.924   Durbin-Watson:                   1.812\n",
      "Prob(Omnibus):                  0.000   Jarque-Bera (JB):             1606.666\n",
      "Skew:                           3.548   Prob(JB):                         0.00\n",
      "Kurtosis:                      21.416   Cond. No.                         14.2\n",
      "==============================================================================\n",
      "\n",
      "Notes:\n",
      "[1] Standard Errors assume that the covariance matrix of the errors is correctly specified.\n"
     ]
    }
   ],
   "source": [
    "model2 = smf.ols(formula='change ~ job_2 + job_3 + job_4 + job_6 + job_7 + job_8 + job_10 + job_12 + job_13', data=jobdf)\n",
    "print(model2.fit().summary())"
   ]
  },
  {
   "cell_type": "markdown",
   "metadata": {},
   "source": [
    "None of the p-values of the coefficients of job dummy variables are statistically significant at 5% level of significance, and the overall p-value of the model is not statistically significant. Thus, there is insufficient evidence to conclude that the job status of participants affects the extent of change in mood of participants."
   ]
  },
  {
   "cell_type": "code",
   "execution_count": null,
   "metadata": {},
   "outputs": [],
   "source": [
    "jobdf = df[[\"job status\", \"change in mood\"]]\n",
    "jobdf.columns = [\"job\", \"change\"]\n",
    "jobdf[\"job\"] = jobdf.job.astype(\"category\")\n",
    "jobdf = pd.get_dummies(jobdf, dtype=int, drop_first=True)\n",
    "jobdf # group broader, eg uni vs poly + ite"
   ]
  },
  {
   "cell_type": "markdown",
   "metadata": {},
   "source": [
    "### Other findings"
   ]
  },
  {
   "cell_type": "code",
   "execution_count": null,
   "metadata": {},
   "outputs": [
    {
     "name": "stdout",
     "output_type": "stream",
     "text": [
      "                            OLS Regression Results                            \n",
      "==============================================================================\n",
      "Dep. Variable:               mood_pre   R-squared:                       0.116\n",
      "Model:                            OLS   Adj. R-squared:                  0.107\n",
      "Method:                 Least Squares   F-statistic:                     12.74\n",
      "Date:                Wed, 08 Jan 2025   Prob (F-statistic):           0.000558\n",
      "Time:                        10:54:27   Log-Likelihood:                -411.70\n",
      "No. Observations:                  99   AIC:                             827.4\n",
      "Df Residuals:                      97   BIC:                             832.6\n",
      "Df Model:                           1                                         \n",
      "Covariance Type:            nonrobust                                         \n",
      "======================================================================================\n",
      "                         coef    std err          t      P>|t|      [0.025      0.975]\n",
      "--------------------------------------------------------------------------------------\n",
      "const                 25.6576      8.767      2.927      0.004       8.258      43.057\n",
      "social support_pre     0.3855      0.108      3.570      0.001       0.171       0.600\n",
      "==============================================================================\n",
      "Omnibus:                        1.779   Durbin-Watson:                   2.077\n",
      "Prob(Omnibus):                  0.411   Jarque-Bera (JB):                1.412\n",
      "Skew:                           0.099   Prob(JB):                        0.494\n",
      "Kurtosis:                       2.449   Cond. No.                         453.\n",
      "==============================================================================\n",
      "\n",
      "Notes:\n",
      "[1] Standard Errors assume that the covariance matrix of the errors is correctly specified.\n"
     ]
    }
   ],
   "source": [
    "x = df[\"social support_pre\"]\n",
    "y = df[\"mood_pre\"] #mood post?\n",
    "x = sm.add_constant(x)\n",
    "model3 = sm.OLS(y, x)\n",
    "results = model3.fit()\n",
    "print(results.summary())"
   ]
  },
  {
   "cell_type": "markdown",
   "metadata": {},
   "source": [
    "From the above regression model, the coefficients of the intercept and social support before the game are statistically significant at 5% significance level, and the overall model is statistically significant. Thus, this suggests that an increase in social support levels before the game would lead to better moods before the game."
   ]
  },
  {
   "cell_type": "code",
   "execution_count": null,
   "metadata": {},
   "outputs": [
    {
     "name": "stdout",
     "output_type": "stream",
     "text": [
      "                            OLS Regression Results                            \n",
      "==============================================================================\n",
      "Dep. Variable:              mood_post   R-squared:                       0.133\n",
      "Model:                            OLS   Adj. R-squared:                  0.124\n",
      "Method:                 Least Squares   F-statistic:                     14.85\n",
      "Date:                Wed, 08 Jan 2025   Prob (F-statistic):           0.000209\n",
      "Time:                        10:54:56   Log-Likelihood:                -405.16\n",
      "No. Observations:                  99   AIC:                             814.3\n",
      "Df Residuals:                      97   BIC:                             819.5\n",
      "Df Model:                           1                                         \n",
      "Covariance Type:            nonrobust                                         \n",
      "======================================================================================\n",
      "                         coef    std err          t      P>|t|      [0.025      0.975]\n",
      "--------------------------------------------------------------------------------------\n",
      "const                 39.7173      8.207      4.840      0.000      23.429      56.005\n",
      "social support_pre     0.3895      0.101      3.853      0.000       0.189       0.590\n",
      "==============================================================================\n",
      "Omnibus:                        0.876   Durbin-Watson:                   1.749\n",
      "Prob(Omnibus):                  0.645   Jarque-Bera (JB):                0.640\n",
      "Skew:                          -0.196   Prob(JB):                        0.726\n",
      "Kurtosis:                       3.041   Cond. No.                         453.\n",
      "==============================================================================\n",
      "\n",
      "Notes:\n",
      "[1] Standard Errors assume that the covariance matrix of the errors is correctly specified.\n"
     ]
    }
   ],
   "source": [
    "x = df[\"social support_pre\"]\n",
    "y = df[\"mood_post\"] \n",
    "x = sm.add_constant(x)\n",
    "model3 = sm.OLS(y, x)\n",
    "results = model3.fit()\n",
    "print(results.summary())"
   ]
  },
  {
   "cell_type": "markdown",
   "metadata": {},
   "source": [
    "From the above regression model, the coefficients of the intercept and social support before the game are statistically significant at 5% significance level, and the overall model is statistically significant. Thus, this suggests that an increase in social support levels before the game would lead to better moods after the game."
   ]
  }
 ],
 "metadata": {
  "kernelspec": {
   "display_name": "Python 3",
   "language": "python",
   "name": "python3"
  },
  "language_info": {
   "codemirror_mode": {
    "name": "ipython",
    "version": 3
   },
   "file_extension": ".py",
   "mimetype": "text/x-python",
   "name": "python",
   "nbconvert_exporter": "python",
   "pygments_lexer": "ipython3",
   "version": "3.10.11"
  }
 },
 "nbformat": 4,
 "nbformat_minor": 2
}
